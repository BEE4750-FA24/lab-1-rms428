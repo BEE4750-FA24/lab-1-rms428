{
  "cells": [
    {
      "cell_type": "markdown",
      "id": "7b030395-ff9d-488b-893a-3f2925d07a29",
      "metadata": {},
      "source": [
        "# BEE 4750 Lab 1: Julia and GitHub Basics\n",
        "\n",
        "**Name**: Cella\n",
        "\n",
        "**ID**: rms428\n",
        "\n",
        "> **Due Date**\n",
        ">\n",
        "> Wednesday, 8/28/24, 9:00pm\n",
        "\n",
        "## Setup\n",
        "\n",
        "The following code should go at the top of most Julia scripts; it will\n",
        "load the local package environment and install any needed packages. You\n",
        "will see this often and shouldn’t need to touch it."
      ]
    },
    {
      "cell_type": "code",
      "execution_count": 1,
      "id": "2",
      "metadata": {},
      "outputs": [
        {
          "name": "stderr",
          "output_type": "stream",
          "text": [
            "\u001b[32m\u001b[1m  Activating\u001b[22m\u001b[39m project at `~/Desktop/BEE4750/labs/lab01/lab-1-rms428`\n"
          ]
        }
      ],
      "source": [
        "import Pkg\n",
        "Pkg.activate(\".\")\n",
        "Pkg.instantiate()"
      ]
    },
    {
      "cell_type": "markdown",
      "id": "b0c0f53b-93bc-4baa-8b0e-bdb58e8ff961",
      "metadata": {},
      "source": [
        "This next cell loads packages which are required for the rest of the\n",
        "code evaluation. In this case, we only need to load the `Plots.jl`\n",
        "plotting package, but you will see others over the course of the\n",
        "semester (and can add more if desired; just make sure that you’ve [added\n",
        "the new packages to the\n",
        "environment](https://viveks.me/environmental-systems-analysis/tutorials/julia-basics.html#package-management)).\n",
        "Standard Julia practice is to load all of the needed packages at the top\n",
        "of the file.\n",
        "\n",
        "> **Warning**\n",
        ">\n",
        "> Loading packages can take a while, especially the first time! Julia\n",
        "> tries to precompile all of the packages you’re using so repeat use is\n",
        "> faster, but this can be quite slow at first."
      ]
    },
    {
      "cell_type": "code",
      "execution_count": 2,
      "id": "4",
      "metadata": {},
      "outputs": [],
      "source": [
        "using Plots"
      ]
    },
    {
      "cell_type": "markdown",
      "id": "6d2bc421-d992-4864-a390-fd6d7820f6c0",
      "metadata": {},
      "source": [
        "## Introduction\n",
        "\n",
        "### Julia\n",
        "\n",
        "Julia is an up-and-coming language, originally developed for scientific\n",
        "programming. While learning a new programming language always has its\n",
        "hiccups, the good news is that if you’ve programmed in a high-level\n",
        "language such as Python or MATLAB, most Julia concepts should look\n",
        "familiar.\n",
        "\n",
        "If you have not successfully set up Julia, follow the instructions in\n",
        "[Tools\n",
        "Setup](https://viveks.me/environmental-systems-analysis/setup.html)\n",
        "and/or ask for help.\n",
        "\n",
        "You can use other editors for this course, but our recommendation is\n",
        "[Visual Studio Code](https://code.visualstudio.com/) with the [Julia\n",
        "extension](https://marketplace.visualstudio.com/items?itemName=julialang.language-julia),\n",
        "which will make life a *lot* simpler! You should have set this up by\n",
        "following the [Tools\n",
        "Setup](https://viveks.me/environmental-systems-analysis/setup.html)\n",
        "instructions, but if not, do so now and/or ask for help.\n",
        "\n",
        "### Jupyter Notebooks\n",
        "\n",
        "Jupyter notebooks integrate text and equations in Markdown with Julia\n",
        "(or Python, or R) code. To do this, Jupyter notebooks consist of two\n",
        "types of “cells”: code cells and Markdown (text) cells.\n",
        "\n",
        "Click once on this section of text. A box will appear around this text\n",
        "(and some areas above/below it) - all of that is within this cell.\n",
        "\n",
        "Markdown is a text markup framework for formatting language that makes\n",
        "things look pretty when viewed across different platforms: web browsers,\n",
        "notebooks, and so forth. Text written in Markdown can also include\n",
        "hyperlinks, LaTeX equations, section headers, and images, among other\n",
        "features (most of [the course\n",
        "website](https://viveks.me/climate-risk-analysis) and the lecture notes\n",
        "were all written in Markdown!). [Here is a basic Markdown cheat\n",
        "sheet](https://www.markdownguide.org/cheat-sheet/).\n",
        "\n",
        "What you are looking at right now is the formatted text after the\n",
        "Markdown is processed. To see the raw Markdown, do one of:\n",
        "\n",
        "-   press `Enter` while that cell is selected, or\n",
        "-   double-click on that cell.\n",
        "\n",
        "------------------------------------------------------------------------\n",
        "\n",
        "A couple of the features you will see in this Markdown cell:\n",
        "\n",
        "-   The `---` command creates a horizontal line. This is also nice for\n",
        "    separating sections.\n",
        "-   Backticks (`` `...` ``) can be used to format and highlight code,\n",
        "    keystrokes, etc.\n",
        "-   The `#` sign is used to create a new section header; two `#` signs\n",
        "    (`##`) is used to create a new subsection header; `###` creates a\n",
        "    subsubsection, and so on.\n",
        "-   You can create a bulleted list by using the asterisk `*` or a dash\n",
        "    `-` and a space.\n",
        "-   You can create regular text by just typing as usual.\n",
        "-   You can create **bold-faced text** by wrapping it with two asterisks\n",
        "    on both sides.\n",
        "-   You can create *italicized text* by wrapping it with a single\n",
        "    asterisk on both sides.\n",
        "-   To create a new paragraph, you must include a blank line between the\n",
        "    old and new paragraphs.\n",
        "\n",
        "At this point you might be wondering how to turn this cell back into the\n",
        "fully formatted Markdown text instead of the raw Markdown you’re\n",
        "probably still looking at. You have a couple of options, depending on\n",
        "your platform, but the most consistent is to type `Shift + Enter` to\n",
        "**execute** the cell (this is also how to run code, but more on that\n",
        "later).\n",
        "\n",
        "Additionally, you will frequently need to create new cells in your\n",
        "Jupyter notebooks. How you do this will depend on how you interact with\n",
        "the notebook, but try to figure this out now.\n",
        "\n",
        "One tip is to think carefully about what bits of code should be in the\n",
        "same cell, as you typically only see output from the last command in a\n",
        "cell. For example, compare the following:"
      ]
    },
    {
      "cell_type": "code",
      "execution_count": 3,
      "id": "6",
      "metadata": {},
      "outputs": [
        {
          "data": {
            "text/plain": [
              "-0.9589242746631385"
            ]
          },
          "metadata": {},
          "output_type": "display_data"
        }
      ],
      "source": [
        "x = 5\n",
        "sin(x)"
      ]
    },
    {
      "cell_type": "markdown",
      "id": "0b56a2f1-81e8-4426-b62a-95cfc3933b92",
      "metadata": {},
      "source": [
        "with"
      ]
    },
    {
      "cell_type": "code",
      "execution_count": 4,
      "id": "8",
      "metadata": {},
      "outputs": [
        {
          "data": {
            "text/plain": [
              "5"
            ]
          },
          "metadata": {},
          "output_type": "display_data"
        }
      ],
      "source": [
        "x = 5"
      ]
    },
    {
      "cell_type": "code",
      "execution_count": 5,
      "id": "10",
      "metadata": {},
      "outputs": [
        {
          "data": {
            "text/plain": [
              "-0.9589242746631385"
            ]
          },
          "metadata": {},
          "output_type": "display_data"
        }
      ],
      "source": [
        "sin(x)"
      ]
    },
    {
      "cell_type": "markdown",
      "id": "474d541d-93e6-47e1-874f-80abd6c9d7cc",
      "metadata": {},
      "source": [
        "In Julia, you can also suppress the output of a command with a\n",
        "semi-colon:"
      ]
    },
    {
      "cell_type": "code",
      "execution_count": 6,
      "id": "12",
      "metadata": {},
      "outputs": [],
      "source": [
        "sin(x);"
      ]
    },
    {
      "cell_type": "markdown",
      "id": "e5950d08-d04e-4fc7-bed8-33e0ee9a1909",
      "metadata": {},
      "source": [
        "which can help if you want to split some code out for clarity or to\n",
        "insert some text prior to it, but don’t want to clutter the notebook\n",
        "with its output.\n",
        "\n",
        "For code cells, to execute the commands within the cell, we also press\n",
        "`Shift+Enter`.\n",
        "\n",
        "Finally, **make sure that you evaluate all of the code cells in order\n",
        "before submitting**. One bad outcome with notebooks occurs when cells\n",
        "are evaluated out of order, so fixed bugs and edits in previous cells do\n",
        "not get a chance to propagate down. You can do this with the `Run All`\n",
        "command in whichever interface you’re using to edit your notebook.\n",
        "\n",
        "### Julia Basics\n",
        "\n",
        "There are many tutorials and references for Julia, including a [basics\n",
        "overview on the class website](../tutorials/julia-basics.html). Please\n",
        "feel free to reference these as you work through any part of the course.\n",
        "\n",
        "### Formatting Math\n",
        "\n",
        "It will often be helpful to include nicely-formatted mathematics in a\n",
        "notebook. Markdown accomodates this using LaTeX syntax. A LaTeX\n",
        "cheatsheet is available on the class website, and many other guides\n",
        "exist online.\n",
        "\n",
        "Below is an example of a formatted equation: $$x = 5.$$\n",
        "\n",
        "### Looking For Help\n",
        "\n",
        "There is no shame in using Google, or other resources, for help when\n",
        "programming. There are many, many times when you can’t quite get the\n",
        "syntax to work, can’t quite figure out the right package or command to\n",
        "use, or are feeling too lazy or overwhelmed (I’m not judging either of\n",
        "those!) to dig through the documentation. Some good resources include:\n",
        "\n",
        "-   [Stack Overflow](https://stackoverflow.com/) is a treasure trove of\n",
        "    answers;\n",
        "-   The [official Julia forum](https://discourse.julialang.org/) and the\n",
        "    [Julia Subreddit](https://www.reddit.com/r/Julia/) are also very\n",
        "    useful.\n",
        "\n",
        "You are also highly encouraged to post on [Ed\n",
        "Discussion](https://us.edstem.org), though getting a response might be\n",
        "less immediate. Just be mindful that to get good answers, [you have to\n",
        "help people help you](https://stackoverflow.com/help/how-to-ask), and\n",
        "**make sure to give credit to any resources that were helpful**!\n",
        "\n",
        "## Exercises (3 points)\n",
        "\n",
        "Use your understanding of Julia syntax and the GitHub workflow to\n",
        "complete the following (hopefully short) exercises. Convert your\n",
        "completed lab assignment to a PDF and submit it to the Gradescope\n",
        "Assignment “Lab 1”.\n",
        "\n",
        "**Remember to**:\n",
        "\n",
        "-   Include a (succint but clear) writeup of the core idea underlying\n",
        "    your code, through some combination of equations, text, and\n",
        "    algorithms. As you are not required to submit your code, we will not\n",
        "    be looking at it in detail, and instead will rely on those writeups\n",
        "    to assess whether your approach is correct.\n",
        "-   If using the notebook, evaluate all of your code cells, in order\n",
        "    (using a `Run All` command). This will make sure all output is\n",
        "    visible and that the code cells were evaluated in the correct order.\n",
        "-   Tag each of the problems when you submit to Gradescope; a 10%\n",
        "    penalty will be deducted if this is not done.\n",
        "\n",
        "### Computing a Dot Product\n",
        "\n",
        "Given two numeric arrays `x` and `y`, write a function to compute their\n",
        "dot product if they have equal length, and return an error if not (this\n",
        "is useful for debugging!). Use the following code as a starting point."
      ]
    },
    {
      "cell_type": "code",
      "execution_count": 35,
      "id": "14",
      "metadata": {},
      "outputs": [
        {
          "data": {
            "text/plain": [
              "dot_product (generic function with 1 method)"
            ]
          },
          "metadata": {},
          "output_type": "display_data"
        }
      ],
      "source": [
        "function dot_product(x, y)\n",
        "    if length(x) == length(y) # insert test condition for equal lengths\n",
        "        # compute and return dot product\n",
        "        dot = 0\n",
        "        for i = 1:length(x)\n",
        "            dot = dot + (x[i]*y[i])\n",
        "        end\n",
        "    else\n",
        "        throw(DimensionMismatch(\"length of x not equal to length of y\"))\n",
        "    end\n",
        "    return dot\n",
        "end"
      ]
    },
    {
      "cell_type": "markdown",
      "id": "e0ce47a6-a5e8-4cd8-a776-5b04adfa6330",
      "metadata": {},
      "source": [
        "Here are some tests to make sure your code works as intended. Tests like\n",
        "these are useful to make sure everything works as intended. One reason\n",
        "to split your code up into functions is that it makes it straightforward\n",
        "to write tests to make sure each piece of your code works, which makes\n",
        "it easier to identify where errors are occuring."
      ]
    },
    {
      "cell_type": "code",
      "execution_count": 36,
      "id": "16",
      "metadata": {},
      "outputs": [
        {
          "data": {
            "text/plain": [
              "32"
            ]
          },
          "metadata": {},
          "output_type": "display_data"
        }
      ],
      "source": [
        "dot_product([1 2 3], [4 5 6])"
      ]
    },
    {
      "cell_type": "markdown",
      "id": "37f85171-25e8-4513-b57c-af25ff4378e7",
      "metadata": {},
      "source": [
        "If you know the value you should get, you can write a more formal test\n",
        "using the `@assert` macro, which is a good way to “automate” checking\n",
        "(since you get an obvious error if the code doesn’t work as desired):"
      ]
    },
    {
      "cell_type": "code",
      "execution_count": 37,
      "id": "18",
      "metadata": {},
      "outputs": [],
      "source": [
        "@assert dot_product([1 2 3], [4 5 6]) == 32"
      ]
    },
    {
      "cell_type": "markdown",
      "id": "65ccdcd8-449e-4f0c-8f4e-7953ea267f8d",
      "metadata": {},
      "source": [
        "Let’s also make sure we get an error when the dimensions of the two\n",
        "vectors don’t match:"
      ]
    },
    {
      "cell_type": "code",
      "execution_count": 38,
      "id": "20",
      "metadata": {},
      "outputs": [
        {
          "ename": "DimensionMismatch",
          "evalue": "DimensionMismatch: length of x not equal to length of y",
          "output_type": "error",
          "traceback": [
            "DimensionMismatch: length of x not equal to length of y\n",
            "\n",
            "Stacktrace:\n",
            " [1] dot_product(x::Matrix{Int64}, y::Matrix{Int64})\n",
            "   @ Main ~/Desktop/BEE4750/labs/lab01/lab-1-rms428/jl_notebook_cell_df34fa98e69747e1a8f8a730347b8e2f_X15sZmlsZQ==.jl:9\n",
            " [2] top-level scope\n",
            "   @ ~/Desktop/BEE4750/labs/lab01/lab-1-rms428/jl_notebook_cell_df34fa98e69747e1a8f8a730347b8e2f_X24sZmlsZQ==.jl:1"
          ]
        }
      ],
      "source": [
        "dot_product([1 2 3], [4 5])"
      ]
    },
    {
      "cell_type": "markdown",
      "id": "8c069a05-159a-43b4-aa3f-d1fec9a2f727",
      "metadata": {},
      "source": [
        "### Making a Plot\n",
        "\n",
        "Write a function to compute the square of an integer `x`. Evaluate this\n",
        "function for integers between $x=-5$ and $x=5$ and make a plot of the\n",
        "squared values (you can find a quick guide to making various types of\n",
        "plots\n",
        "[here](https://viveks.me/environmental-systems-analysis/tutorials/julia-plots.html)).\n",
        "Make sure to label your axes."
      ]
    },
    {
      "cell_type": "code",
      "execution_count": 49,
      "id": "22",
      "metadata": {},
      "outputs": [
        {
          "data": {
            "text/plain": [
              "square (generic function with 1 method)"
            ]
          },
          "metadata": {},
          "output_type": "display_data"
        }
      ],
      "source": [
        "# insert your code here\n",
        "function square(x)\n",
        "    return x^2\n",
        "end"
      ]
    },
    {
      "cell_type": "code",
      "execution_count": 79,
      "id": "ed5e3788",
      "metadata": {},
      "outputs": [
        {
          "data": {
            "image/png": "[encoded data removed]",
            "image/svg+xml": [
              "<?xml version=\"1.0\" encoding=\"utf-8\"?>\n",
              "<svg xmlns=\"http://www.w3.org/2000/svg\" xmlns:xlink=\"http://www.w3.org/1999/xlink\" width=\"600\" height=\"400\" viewBox=\"0 0 2400 1600\">\n",
              "<defs>\n",
              "  <clipPath id=\"clip630\">\n",
              "    <rect x=\"0\" y=\"0\" width=\"2400\" height=\"1600\"/>\n",
              "  </clipPath>\n",
              "</defs>\n",
              "<path clip-path=\"url(#clip630)\" d=\"M0 1600 L2400 1600 L2400 8.88178e-14 L0 8.88178e-14  Z\" fill=\"#ffffff\" fill-rule=\"evenodd\" fill-opacity=\"1\"/>\n",
              "<defs>\n",
              "  <clipPath id=\"clip631\">\n",
              "    <rect x=\"480\" y=\"0\" width=\"1681\" height=\"1600\"/>\n",
              "  </clipPath>\n",
              "</defs>\n",
              "<path clip-path=\"url(#clip630)\" d=\"M203.964 1423.18 L2352.76 1423.18 L2352.76 47.2441 L203.964 47.2441  Z\" fill=\"#ffffff\" fill-rule=\"evenodd\" fill-opacity=\"1\"/>\n",
              "<defs>\n",
              "  <clipPath id=\"clip632\">\n",
              "    <rect x=\"203\" y=\"47\" width=\"2150\" height=\"1377\"/>\n",
              "  </clipPath>\n",
              "</defs>\n",
              "<polyline clip-path=\"url(#clip632)\" style=\"stroke:#000000; stroke-linecap:round; stroke-linejoin:round; stroke-width:2; stroke-opacity:0.1; fill:none\" points=\"467.495,1423.18 467.495,47.2441 \"/>\n",
              "<polyline clip-path=\"url(#clip632)\" style=\"stroke:#000000; stroke-linecap:round; stroke-linejoin:round; stroke-width:2; stroke-opacity:0.1; fill:none\" points=\"872.927,1423.18 872.927,47.2441 \"/>\n",
              "<polyline clip-path=\"url(#clip632)\" style=\"stroke:#000000; stroke-linecap:round; stroke-linejoin:round; stroke-width:2; stroke-opacity:0.1; fill:none\" points=\"1278.36,1423.18 1278.36,47.2441 \"/>\n",
              "<polyline clip-path=\"url(#clip632)\" style=\"stroke:#000000; stroke-linecap:round; stroke-linejoin:round; stroke-width:2; stroke-opacity:0.1; fill:none\" points=\"1683.79,1423.18 1683.79,47.2441 \"/>\n",
              "<polyline clip-path=\"url(#clip632)\" style=\"stroke:#000000; stroke-linecap:round; stroke-linejoin:round; stroke-width:2; stroke-opacity:0.1; fill:none\" points=\"2089.22,1423.18 2089.22,47.2441 \"/>\n",
              "<polyline clip-path=\"url(#clip630)\" style=\"stroke:#000000; stroke-linecap:round; stroke-linejoin:round; stroke-width:4; stroke-opacity:1; fill:none\" points=\"203.964,1423.18 2352.76,1423.18 \"/>\n",
              "<polyline clip-path=\"url(#clip630)\" style=\"stroke:#000000; stroke-linecap:round; stroke-linejoin:round; stroke-width:4; stroke-opacity:1; fill:none\" points=\"467.495,1423.18 467.495,1404.28 \"/>\n",
              "<polyline clip-path=\"url(#clip630)\" style=\"stroke:#000000; stroke-linecap:round; stroke-linejoin:round; stroke-width:4; stroke-opacity:1; fill:none\" points=\"872.927,1423.18 872.927,1404.28 \"/>\n",
              "<polyline clip-path=\"url(#clip630)\" style=\"stroke:#000000; stroke-linecap:round; stroke-linejoin:round; stroke-width:4; stroke-opacity:1; fill:none\" points=\"1278.36,1423.18 1278.36,1404.28 \"/>\n",
              "<polyline clip-path=\"url(#clip630)\" style=\"stroke:#000000; stroke-linecap:round; stroke-linejoin:round; stroke-width:4; stroke-opacity:1; fill:none\" points=\"1683.79,1423.18 1683.79,1404.28 \"/>\n",
              "<polyline clip-path=\"url(#clip630)\" style=\"stroke:#000000; stroke-linecap:round; stroke-linejoin:round; stroke-width:4; stroke-opacity:1; fill:none\" points=\"2089.22,1423.18 2089.22,1404.28 \"/>\n",
              "<path clip-path=\"url(#clip630)\" d=\"M436.395 1468.75 L466.071 1468.75 L466.071 1472.69 L436.395 1472.69 L436.395 1468.75 Z\" fill=\"#000000\" fill-rule=\"nonzero\" fill-opacity=\"1\" /><path clip-path=\"url(#clip630)\" d=\"M489.011 1455.09 L477.205 1473.54 L489.011 1473.54 L489.011 1455.09 M487.784 1451.02 L493.664 1451.02 L493.664 1473.54 L498.594 1473.54 L498.594 1477.43 L493.664 1477.43 L493.664 1485.58 L489.011 1485.58 L489.011 1477.43 L473.409 1477.43 L473.409 1472.92 L487.784 1451.02 Z\" fill=\"#000000\" fill-rule=\"nonzero\" fill-opacity=\"1\" /><path clip-path=\"url(#clip630)\" d=\"M842.87 1468.75 L872.545 1468.75 L872.545 1472.69 L842.87 1472.69 L842.87 1468.75 Z\" fill=\"#000000\" fill-rule=\"nonzero\" fill-opacity=\"1\" /><path clip-path=\"url(#clip630)\" d=\"M886.666 1481.64 L902.985 1481.64 L902.985 1485.58 L881.041 1485.58 L881.041 1481.64 Q883.703 1478.89 888.286 1474.26 Q892.892 1469.61 894.073 1468.27 Q896.318 1465.74 897.198 1464.01 Q898.101 1462.25 898.101 1460.56 Q898.101 1457.8 896.156 1456.07 Q894.235 1454.33 891.133 1454.33 Q888.934 1454.33 886.48 1455.09 Q884.05 1455.86 881.272 1457.41 L881.272 1452.69 Q884.096 1451.55 886.55 1450.97 Q889.004 1450.39 891.041 1450.39 Q896.411 1450.39 899.605 1453.08 Q902.8 1455.77 902.8 1460.26 Q902.8 1462.39 901.99 1464.31 Q901.203 1466.2 899.096 1468.8 Q898.517 1469.47 895.416 1472.69 Q892.314 1475.88 886.666 1481.64 Z\" fill=\"#000000\" fill-rule=\"nonzero\" fill-opacity=\"1\" /><path clip-path=\"url(#clip630)\" d=\"M1278.36 1454.1 Q1274.75 1454.1 1272.92 1457.66 Q1271.11 1461.2 1271.11 1468.33 Q1271.11 1475.44 1272.92 1479.01 Q1274.75 1482.55 1278.36 1482.55 Q1281.99 1482.55 1283.8 1479.01 Q1285.63 1475.44 1285.63 1468.33 Q1285.63 1461.2 1283.8 1457.66 Q1281.99 1454.1 1278.36 1454.1 M1278.36 1450.39 Q1284.17 1450.39 1287.23 1455 Q1290.3 1459.58 1290.3 1468.33 Q1290.3 1477.06 1287.23 1481.67 Q1284.17 1486.25 1278.36 1486.25 Q1272.55 1486.25 1269.47 1481.67 Q1266.42 1477.06 1266.42 1468.33 Q1266.42 1459.58 1269.47 1455 Q1272.55 1450.39 1278.36 1450.39 Z\" fill=\"#000000\" fill-rule=\"nonzero\" fill-opacity=\"1\" /><path clip-path=\"url(#clip630)\" d=\"M1678.45 1481.64 L1694.76 1481.64 L1694.76 1485.58 L1672.82 1485.58 L1672.82 1481.64 Q1675.48 1478.89 1680.07 1474.26 Q1684.67 1469.61 1685.85 1468.27 Q1688.1 1465.74 1688.98 1464.01 Q1689.88 1462.25 1689.88 1460.56 Q1689.88 1457.8 1687.94 1456.07 Q1686.01 1454.33 1682.91 1454.33 Q1680.71 1454.33 1678.26 1455.09 Q1675.83 1455.86 1673.05 1457.41 L1673.05 1452.69 Q1675.88 1451.55 1678.33 1450.97 Q1680.78 1450.39 1682.82 1450.39 Q1688.19 1450.39 1691.38 1453.08 Q1694.58 1455.77 1694.58 1460.26 Q1694.58 1462.39 1693.77 1464.31 Q1692.98 1466.2 1690.88 1468.8 Q1690.3 1469.47 1687.2 1472.69 Q1684.09 1475.88 1678.45 1481.64 Z\" fill=\"#000000\" fill-rule=\"nonzero\" fill-opacity=\"1\" /><path clip-path=\"url(#clip630)\" d=\"M2092.23 1455.09 L2080.43 1473.54 L2092.23 1473.54 L2092.23 1455.09 M2091.01 1451.02 L2096.89 1451.02 L2096.89 1473.54 L2101.82 1473.54 L2101.82 1477.43 L2096.89 1477.43 L2096.89 1485.58 L2092.23 1485.58 L2092.23 1477.43 L2076.63 1477.43 L2076.63 1472.92 L2091.01 1451.02 Z\" fill=\"#000000\" fill-rule=\"nonzero\" fill-opacity=\"1\" /><path clip-path=\"url(#clip630)\" d=\"M1292.53 1528.8 Q1292.53 1530.61 1291.41 1531.64 Q1290.28 1532.64 1288.99 1532.64 Q1287.77 1532.64 1287.12 1531.93 Q1286.48 1531.22 1286.48 1530.32 Q1286.48 1529.09 1287.38 1528.03 Q1288.28 1526.97 1289.63 1526.74 Q1288.31 1525.91 1286.35 1525.91 Q1285.06 1525.91 1283.93 1526.58 Q1282.84 1527.26 1282.16 1528.13 Q1281.52 1529 1280.94 1530.25 Q1280.39 1531.48 1280.17 1532.22 Q1279.97 1532.93 1279.81 1533.7 L1277.56 1542.72 Q1276.46 1547 1276.46 1548.51 Q1276.46 1550.38 1277.36 1551.64 Q1278.27 1552.86 1280.07 1552.86 Q1280.78 1552.86 1281.58 1552.67 Q1282.39 1552.44 1283.42 1551.86 Q1284.48 1551.25 1285.42 1550.35 Q1286.38 1549.42 1287.32 1547.84 Q1288.25 1546.26 1288.86 1544.23 Q1289.05 1543.52 1289.7 1543.52 Q1290.5 1543.52 1290.5 1544.17 Q1290.5 1544.71 1290.05 1545.87 Q1289.63 1547 1288.7 1548.48 Q1287.8 1549.93 1286.61 1551.25 Q1285.42 1552.54 1283.64 1553.44 Q1281.87 1554.34 1279.94 1554.34 Q1277.17 1554.34 1275.34 1552.86 Q1273.5 1551.38 1272.82 1549.32 Q1272.66 1549.61 1272.44 1550 Q1272.21 1550.38 1271.53 1551.25 Q1270.89 1552.09 1270.15 1552.73 Q1269.41 1553.34 1268.25 1553.83 Q1267.12 1554.34 1265.9 1554.34 Q1264.35 1554.34 1262.97 1553.89 Q1261.62 1553.44 1260.65 1552.41 Q1259.68 1551.38 1259.68 1549.96 Q1259.68 1548.38 1260.75 1547.29 Q1261.84 1546.16 1263.32 1546.16 Q1264.26 1546.16 1265 1546.71 Q1265.77 1547.26 1265.77 1548.45 Q1265.77 1549.77 1264.87 1550.77 Q1263.97 1551.77 1262.68 1552.02 Q1264 1552.86 1265.96 1552.86 Q1268.09 1552.86 1269.76 1550.99 Q1271.44 1549.13 1272.24 1546 Q1274.24 1538.5 1275.01 1535.15 Q1275.79 1531.77 1275.79 1530.32 Q1275.79 1528.96 1275.43 1528.03 Q1275.08 1527.1 1274.47 1526.68 Q1273.89 1526.23 1273.34 1526.07 Q1272.82 1525.91 1272.24 1525.91 Q1271.28 1525.91 1270.18 1526.29 Q1269.12 1526.68 1267.83 1527.58 Q1266.58 1528.45 1265.38 1530.25 Q1264.19 1532.06 1263.39 1534.54 Q1263.23 1535.28 1262.52 1535.28 Q1261.74 1535.24 1261.74 1534.6 Q1261.74 1534.05 1262.16 1532.93 Q1262.61 1531.77 1263.52 1530.32 Q1264.45 1528.87 1265.64 1527.58 Q1266.87 1526.26 1268.64 1525.36 Q1270.44 1524.46 1272.37 1524.46 Q1273.24 1524.46 1274.08 1524.65 Q1274.95 1524.81 1275.98 1525.29 Q1277.04 1525.78 1277.98 1526.84 Q1278.91 1527.9 1279.49 1529.45 Q1279.88 1528.71 1280.39 1528 Q1280.94 1527.29 1281.78 1526.42 Q1282.65 1525.52 1283.84 1525 Q1285.06 1524.46 1286.41 1524.46 Q1287.73 1524.46 1289.02 1524.81 Q1290.31 1525.13 1291.41 1526.19 Q1292.53 1527.23 1292.53 1528.8 Z\" fill=\"#000000\" fill-rule=\"nonzero\" fill-opacity=\"1\" /><polyline clip-path=\"url(#clip632)\" style=\"stroke:#000000; stroke-linecap:round; stroke-linejoin:round; stroke-width:2; stroke-opacity:0.1; fill:none\" points=\"203.964,1384.24 2352.76,1384.24 \"/>\n",
              "<polyline clip-path=\"url(#clip632)\" style=\"stroke:#000000; stroke-linecap:round; stroke-linejoin:round; stroke-width:2; stroke-opacity:0.1; fill:none\" points=\"203.964,1124.63 2352.76,1124.63 \"/>\n",
              "<polyline clip-path=\"url(#clip632)\" style=\"stroke:#000000; stroke-linecap:round; stroke-linejoin:round; stroke-width:2; stroke-opacity:0.1; fill:none\" points=\"203.964,865.017 2352.76,865.017 \"/>\n",
              "<polyline clip-path=\"url(#clip632)\" style=\"stroke:#000000; stroke-linecap:round; stroke-linejoin:round; stroke-width:2; stroke-opacity:0.1; fill:none\" points=\"203.964,605.407 2352.76,605.407 \"/>\n",
              "<polyline clip-path=\"url(#clip632)\" style=\"stroke:#000000; stroke-linecap:round; stroke-linejoin:round; stroke-width:2; stroke-opacity:0.1; fill:none\" points=\"203.964,345.796 2352.76,345.796 \"/>\n",
              "<polyline clip-path=\"url(#clip632)\" style=\"stroke:#000000; stroke-linecap:round; stroke-linejoin:round; stroke-width:2; stroke-opacity:0.1; fill:none\" points=\"203.964,86.1857 2352.76,86.1857 \"/>\n",
              "<polyline clip-path=\"url(#clip630)\" style=\"stroke:#000000; stroke-linecap:round; stroke-linejoin:round; stroke-width:4; stroke-opacity:1; fill:none\" points=\"203.964,1423.18 203.964,47.2441 \"/>\n",
              "<polyline clip-path=\"url(#clip630)\" style=\"stroke:#000000; stroke-linecap:round; stroke-linejoin:round; stroke-width:4; stroke-opacity:1; fill:none\" points=\"203.964,1384.24 222.861,1384.24 \"/>\n",
              "<polyline clip-path=\"url(#clip630)\" style=\"stroke:#000000; stroke-linecap:round; stroke-linejoin:round; stroke-width:4; stroke-opacity:1; fill:none\" points=\"203.964,1124.63 222.861,1124.63 \"/>\n",
              "<polyline clip-path=\"url(#clip630)\" style=\"stroke:#000000; stroke-linecap:round; stroke-linejoin:round; stroke-width:4; stroke-opacity:1; fill:none\" points=\"203.964,865.017 222.861,865.017 \"/>\n",
              "<polyline clip-path=\"url(#clip630)\" style=\"stroke:#000000; stroke-linecap:round; stroke-linejoin:round; stroke-width:4; stroke-opacity:1; fill:none\" points=\"203.964,605.407 222.861,605.407 \"/>\n",
              "<polyline clip-path=\"url(#clip630)\" style=\"stroke:#000000; stroke-linecap:round; stroke-linejoin:round; stroke-width:4; stroke-opacity:1; fill:none\" points=\"203.964,345.796 222.861,345.796 \"/>\n",
              "<polyline clip-path=\"url(#clip630)\" style=\"stroke:#000000; stroke-linecap:round; stroke-linejoin:round; stroke-width:4; stroke-opacity:1; fill:none\" points=\"203.964,86.1857 222.861,86.1857 \"/>\n",
              "<path clip-path=\"url(#clip630)\" d=\"M156.019 1370.04 Q152.408 1370.04 150.579 1373.6 Q148.774 1377.14 148.774 1384.27 Q148.774 1391.38 150.579 1394.94 Q152.408 1398.49 156.019 1398.49 Q159.653 1398.49 161.459 1394.94 Q163.288 1391.38 163.288 1384.27 Q163.288 1377.14 161.459 1373.6 Q159.653 1370.04 156.019 1370.04 M156.019 1366.33 Q161.829 1366.33 164.885 1370.94 Q167.964 1375.52 167.964 1384.27 Q167.964 1393 164.885 1397.61 Q161.829 1402.19 156.019 1402.19 Q150.209 1402.19 147.13 1397.61 Q144.075 1393 144.075 1384.27 Q144.075 1375.52 147.13 1370.94 Q150.209 1366.33 156.019 1366.33 Z\" fill=\"#000000\" fill-rule=\"nonzero\" fill-opacity=\"1\" /><path clip-path=\"url(#clip630)\" d=\"M147.061 1107.35 L165.417 1107.35 L165.417 1111.28 L151.343 1111.28 L151.343 1119.76 Q152.362 1119.41 153.38 1119.25 Q154.399 1119.06 155.417 1119.06 Q161.204 1119.06 164.584 1122.23 Q167.964 1125.4 167.964 1130.82 Q167.964 1136.4 164.491 1139.5 Q161.019 1142.58 154.7 1142.58 Q152.524 1142.58 150.255 1142.21 Q148.01 1141.84 145.603 1141.1 L145.603 1136.4 Q147.686 1137.53 149.908 1138.09 Q152.13 1138.64 154.607 1138.64 Q158.612 1138.64 160.95 1136.54 Q163.288 1134.43 163.288 1130.82 Q163.288 1127.21 160.95 1125.1 Q158.612 1123 154.607 1123 Q152.732 1123 150.857 1123.41 Q149.005 1123.83 147.061 1124.71 L147.061 1107.35 Z\" fill=\"#000000\" fill-rule=\"nonzero\" fill-opacity=\"1\" /><path clip-path=\"url(#clip630)\" d=\"M116.668 878.362 L124.306 878.362 L124.306 851.996 L115.996 853.663 L115.996 849.404 L124.26 847.737 L128.936 847.737 L128.936 878.362 L136.575 878.362 L136.575 882.297 L116.668 882.297 L116.668 878.362 Z\" fill=\"#000000\" fill-rule=\"nonzero\" fill-opacity=\"1\" /><path clip-path=\"url(#clip630)\" d=\"M156.019 850.816 Q152.408 850.816 150.579 854.381 Q148.774 857.922 148.774 865.052 Q148.774 872.158 150.579 875.723 Q152.408 879.265 156.019 879.265 Q159.653 879.265 161.459 875.723 Q163.288 872.158 163.288 865.052 Q163.288 857.922 161.459 854.381 Q159.653 850.816 156.019 850.816 M156.019 847.112 Q161.829 847.112 164.885 851.719 Q167.964 856.302 167.964 865.052 Q167.964 873.779 164.885 878.385 Q161.829 882.969 156.019 882.969 Q150.209 882.969 147.13 878.385 Q144.075 873.779 144.075 865.052 Q144.075 856.302 147.13 851.719 Q150.209 847.112 156.019 847.112 Z\" fill=\"#000000\" fill-rule=\"nonzero\" fill-opacity=\"1\" /><path clip-path=\"url(#clip630)\" d=\"M117.663 618.752 L125.302 618.752 L125.302 592.386 L116.992 594.053 L116.992 589.793 L125.255 588.127 L129.931 588.127 L129.931 618.752 L137.57 618.752 L137.57 622.687 L117.663 622.687 L117.663 618.752 Z\" fill=\"#000000\" fill-rule=\"nonzero\" fill-opacity=\"1\" /><path clip-path=\"url(#clip630)\" d=\"M147.061 588.127 L165.417 588.127 L165.417 592.062 L151.343 592.062 L151.343 600.534 Q152.362 600.187 153.38 600.025 Q154.399 599.84 155.417 599.84 Q161.204 599.84 164.584 603.011 Q167.964 606.182 167.964 611.599 Q167.964 617.177 164.491 620.279 Q161.019 623.358 154.7 623.358 Q152.524 623.358 150.255 622.988 Q148.01 622.617 145.603 621.877 L145.603 617.177 Q147.686 618.312 149.908 618.867 Q152.13 619.423 154.607 619.423 Q158.612 619.423 160.95 617.316 Q163.288 615.21 163.288 611.599 Q163.288 607.988 160.95 605.881 Q158.612 603.775 154.607 603.775 Q152.732 603.775 150.857 604.191 Q149.005 604.608 147.061 605.488 L147.061 588.127 Z\" fill=\"#000000\" fill-rule=\"nonzero\" fill-opacity=\"1\" /><path clip-path=\"url(#clip630)\" d=\"M119.885 359.141 L136.204 359.141 L136.204 363.076 L114.26 363.076 L114.26 359.141 Q116.922 356.386 121.505 351.757 Q126.112 347.104 127.292 345.761 Q129.538 343.238 130.417 341.502 Q131.32 339.743 131.32 338.053 Q131.32 335.299 129.376 333.562 Q127.455 331.826 124.353 331.826 Q122.154 331.826 119.7 332.59 Q117.269 333.354 114.492 334.905 L114.492 330.183 Q117.316 329.049 119.769 328.47 Q122.223 327.891 124.26 327.891 Q129.63 327.891 132.825 330.576 Q136.019 333.262 136.019 337.752 Q136.019 339.882 135.209 341.803 Q134.422 343.701 132.316 346.294 Q131.737 346.965 128.635 350.183 Q125.533 353.377 119.885 359.141 Z\" fill=\"#000000\" fill-rule=\"nonzero\" fill-opacity=\"1\" /><path clip-path=\"url(#clip630)\" d=\"M156.019 331.595 Q152.408 331.595 150.579 335.16 Q148.774 338.701 148.774 345.831 Q148.774 352.937 150.579 356.502 Q152.408 360.044 156.019 360.044 Q159.653 360.044 161.459 356.502 Q163.288 352.937 163.288 345.831 Q163.288 338.701 161.459 335.16 Q159.653 331.595 156.019 331.595 M156.019 327.891 Q161.829 327.891 164.885 332.498 Q167.964 337.081 167.964 345.831 Q167.964 354.558 164.885 359.164 Q161.829 363.747 156.019 363.747 Q150.209 363.747 147.13 359.164 Q144.075 354.558 144.075 345.831 Q144.075 337.081 147.13 332.498 Q150.209 327.891 156.019 327.891 Z\" fill=\"#000000\" fill-rule=\"nonzero\" fill-opacity=\"1\" /><path clip-path=\"url(#clip630)\" d=\"M120.88 99.5305 L137.2 99.5305 L137.2 103.466 L115.256 103.466 L115.256 99.5305 Q117.918 96.7759 122.501 92.1463 Q127.107 87.4935 128.288 86.151 Q130.533 83.6278 131.413 81.8917 Q132.316 80.1325 132.316 78.4427 Q132.316 75.688 130.371 73.9519 Q128.45 72.2158 125.348 72.2158 Q123.149 72.2158 120.695 72.9797 Q118.265 73.7436 115.487 75.2945 L115.487 70.5723 Q118.311 69.4381 120.765 68.8594 Q123.218 68.2807 125.255 68.2807 Q130.626 68.2807 133.82 70.9658 Q137.015 73.651 137.015 78.1417 Q137.015 80.2714 136.204 82.1926 Q135.417 84.0908 133.311 86.6834 Q132.732 87.3546 129.63 90.5722 Q126.529 93.7667 120.88 99.5305 Z\" fill=\"#000000\" fill-rule=\"nonzero\" fill-opacity=\"1\" /><path clip-path=\"url(#clip630)\" d=\"M147.061 68.9057 L165.417 68.9057 L165.417 72.8408 L151.343 72.8408 L151.343 81.313 Q152.362 80.9658 153.38 80.8038 Q154.399 80.6186 155.417 80.6186 Q161.204 80.6186 164.584 83.7899 Q167.964 86.9611 167.964 92.3778 Q167.964 97.9564 164.491 101.058 Q161.019 104.137 154.7 104.137 Q152.524 104.137 150.255 103.767 Q148.01 103.396 145.603 102.655 L145.603 97.9564 Q147.686 99.0907 149.908 99.6462 Q152.13 100.202 154.607 100.202 Q158.612 100.202 160.95 98.0953 Q163.288 95.9889 163.288 92.3778 Q163.288 88.7667 160.95 86.6602 Q158.612 84.5537 154.607 84.5537 Q152.732 84.5537 150.857 84.9704 Q149.005 85.3871 147.061 86.2667 L147.061 68.9057 Z\" fill=\"#000000\" fill-rule=\"nonzero\" fill-opacity=\"1\" /><path clip-path=\"url(#clip630)\" d=\"M49.6813 734.795 Q51.4848 734.795 52.5154 735.922 Q53.5138 737.049 53.5138 738.338 Q53.5138 739.561 52.8053 740.206 Q52.0967 740.85 51.195 740.85 Q49.9711 740.85 48.9083 739.948 Q47.8456 739.046 47.6201 737.693 Q46.7828 739.014 46.7828 740.978 Q46.7828 742.267 47.4591 743.394 Q48.1354 744.489 49.005 745.165 Q49.8745 745.809 51.1305 746.389 Q52.3544 746.937 53.0951 747.162 Q53.8036 747.355 54.5766 747.516 L63.5942 749.771 Q67.8776 750.866 69.3913 750.866 Q71.2592 750.866 72.5152 749.964 Q73.7391 749.062 73.7391 747.259 Q73.7391 746.55 73.5458 745.745 Q73.3204 744.94 72.7407 743.909 Q72.1288 742.846 71.227 741.912 Q70.293 740.946 68.7149 740.012 Q67.1369 739.078 65.1079 738.466 Q64.3994 738.273 64.3994 737.629 Q64.3994 736.824 65.0435 736.824 Q65.591 736.824 66.7504 737.275 Q67.8776 737.693 69.3591 738.627 Q70.8083 739.529 72.1288 740.721 Q73.417 741.912 74.3188 743.684 Q75.2205 745.455 75.2205 747.387 Q75.2205 750.157 73.7391 751.993 Q72.2576 753.829 70.1964 754.505 Q70.4863 754.666 70.8727 754.891 Q71.2592 755.117 72.1288 755.793 Q72.9661 756.437 73.6102 757.178 Q74.2222 757.919 74.7052 759.078 Q75.2205 760.205 75.2205 761.429 Q75.2205 762.975 74.7697 764.36 Q74.3188 765.713 73.2882 766.679 Q72.2576 767.645 70.8405 767.645 Q69.2624 767.645 68.1674 766.582 Q67.0402 765.487 67.0402 764.006 Q67.0402 763.072 67.5877 762.331 Q68.1352 761.558 69.3269 761.558 Q70.6473 761.558 71.6457 762.46 Q72.6441 763.362 72.9017 764.65 Q73.7391 763.329 73.7391 761.365 Q73.7391 759.239 71.8711 757.565 Q70.0032 755.89 66.8792 755.085 Q59.3752 753.088 56.0258 752.315 Q52.6442 751.542 51.195 751.542 Q49.8423 751.542 48.9083 751.896 Q47.9744 752.251 47.5557 752.862 Q47.1048 753.442 46.9438 753.99 Q46.7828 754.505 46.7828 755.085 Q46.7828 756.051 47.1692 757.146 Q47.5557 758.209 48.4575 759.497 Q49.327 760.753 51.1305 761.944 Q52.9341 763.136 55.4139 763.941 Q56.1547 764.102 56.1547 764.811 Q56.1225 765.584 55.4783 765.584 Q54.9308 765.584 53.8036 765.165 Q52.6442 764.714 51.195 763.812 Q49.7457 762.878 48.4575 761.687 Q47.137 760.463 46.2353 758.692 Q45.3335 756.888 45.3335 754.956 Q45.3335 754.086 45.5267 753.249 Q45.6878 752.379 46.1708 751.349 Q46.6539 750.286 47.7167 749.352 Q48.7795 748.418 50.3254 747.838 Q49.5847 747.452 48.8761 746.937 Q48.1676 746.389 47.2981 745.552 Q46.3963 744.682 45.881 743.491 Q45.3335 742.267 45.3335 740.914 Q45.3335 739.594 45.6878 738.305 Q46.0098 737.017 47.0726 735.922 Q48.1032 734.795 49.6813 734.795 Z\" fill=\"#000000\" fill-rule=\"nonzero\" fill-opacity=\"1\" /><path clip-path=\"url(#clip630)\" d=\"M54.7431 728.074 Q53.9089 728.074 53.661 728.006 Q53.413 727.916 53.0297 727.555 L43.1554 718.695 Q37.6997 713.848 32.9429 713.848 Q29.8544 713.848 27.6451 715.472 Q25.4357 717.072 25.4357 720.025 Q25.4357 722.054 26.6757 723.768 Q27.9156 725.481 30.1249 726.27 Q30.0798 726.135 30.0798 725.661 Q30.0798 724.512 30.8012 723.88 Q31.5227 723.227 32.492 723.227 Q33.732 723.227 34.3407 724.038 Q34.9268 724.827 34.9268 725.616 Q34.9268 725.932 34.8592 726.36 Q34.7915 726.766 34.1603 727.42 Q33.5065 728.074 32.3568 728.074 Q29.133 728.074 26.563 725.639 Q23.9929 723.182 23.9929 719.439 Q23.9929 715.201 26.5179 712.428 Q29.0203 709.633 32.9429 709.633 Q34.3181 709.633 35.5806 710.061 Q36.8205 710.467 37.7899 711.03 Q38.7593 711.571 40.3149 713.059 Q41.8704 714.547 42.9751 715.742 Q44.0797 716.937 46.4243 719.62 L51.1811 724.512 L51.1811 716.193 Q51.1811 712.135 50.8204 711.819 Q50.1666 711.369 46.7174 710.805 L46.7174 709.633 L54.7431 710.94 L54.7431 728.074 Z\" fill=\"#000000\" fill-rule=\"nonzero\" fill-opacity=\"1\" /><polyline clip-path=\"url(#clip632)\" style=\"stroke:#009af9; stroke-linecap:round; stroke-linejoin:round; stroke-width:4; stroke-opacity:1; fill:none\" points=\"264.778,86.1857 467.495,553.485 670.211,916.939 872.927,1176.55 1075.64,1332.32 1278.36,1384.24 1481.08,1332.32 1683.79,1176.55 1886.51,916.939 2089.22,553.485 2291.94,86.1857 \"/>\n",
              "<path clip-path=\"url(#clip630)\" d=\"M1932.26 1377.32 L2281.13 1377.32 L2281.13 1273.64 L1932.26 1273.64  Z\" fill=\"#ffffff\" fill-rule=\"evenodd\" fill-opacity=\"1\"/>\n",
              "<polyline clip-path=\"url(#clip630)\" style=\"stroke:#000000; stroke-linecap:round; stroke-linejoin:round; stroke-width:4; stroke-opacity:1; fill:none\" points=\"1932.26,1377.32 2281.13,1377.32 2281.13,1273.64 1932.26,1273.64 1932.26,1377.32 \"/>\n",
              "<polyline clip-path=\"url(#clip630)\" style=\"stroke:#009af9; stroke-linecap:round; stroke-linejoin:round; stroke-width:4; stroke-opacity:1; fill:none\" points=\"1956.13,1325.48 2099.38,1325.48 \"/>\n",
              "<path clip-path=\"url(#clip630)\" d=\"M2145.39 1319.48 Q2145.39 1319.81 2145.18 1320.58 L2140.59 1338.9 Q2139.59 1342.97 2136.31 1345.83 Q2133.05 1348.69 2129.35 1348.69 Q2127.12 1348.69 2125.7 1347.5 Q2124.27 1346.32 2124.27 1344.52 Q2124.27 1342.93 2125.11 1342.15 Q2125.95 1341.41 2126.96 1341.41 Q2127.29 1341.41 2127.64 1341.5 Q2127.99 1341.59 2128.37 1341.99 Q2128.74 1342.39 2128.74 1343.07 Q2128.74 1344.17 2127.78 1345.04 Q2127.31 1345.43 2126.87 1345.53 Q2126.45 1345.62 2125.72 1345.62 Q2126 1346.28 2126.52 1346.72 Q2127.03 1347.17 2127.62 1347.33 Q2128.2 1347.52 2128.58 1347.57 Q2128.98 1347.64 2129.35 1347.64 Q2132.35 1347.64 2134.64 1344.61 Q2135.32 1343.7 2135.81 1342.79 Q2136.33 1341.9 2136.7 1340.8 Q2137.08 1339.72 2137.24 1339.13 Q2137.43 1338.55 2137.76 1337.21 Q2135.58 1339.39 2132.91 1339.39 Q2131.79 1339.39 2130.78 1339.09 Q2129.8 1338.78 2128.93 1338.15 Q2128.06 1337.49 2127.55 1336.35 Q2127.05 1335.2 2127.05 1333.68 Q2127.05 1332.06 2127.69 1329.86 Q2128.32 1327.66 2129.84 1323.6 Q2130.66 1321.33 2130.66 1320.23 Q2130.66 1319.69 2130.54 1319.36 Q2130.43 1319.01 2130.19 1318.9 Q2129.96 1318.76 2129.82 1318.73 Q2129.7 1318.71 2129.47 1318.71 Q2128.09 1318.71 2126.8 1320.11 Q2125.51 1321.52 2124.62 1324.66 Q2124.43 1325.24 2124.31 1325.38 Q2124.2 1325.52 2123.85 1325.52 Q2123.26 1325.5 2123.26 1325.03 Q2123.26 1324.85 2123.47 1324.12 Q2123.68 1323.37 2124.17 1322.27 Q2124.69 1321.14 2125.39 1320.14 Q2126.09 1319.11 2127.2 1318.38 Q2128.32 1317.65 2129.61 1317.65 Q2131.36 1317.65 2132.44 1318.8 Q2133.54 1319.93 2133.54 1321.59 Q2133.54 1322.27 2133.36 1322.88 Q2133.19 1323.46 2132.58 1325.03 Q2130.12 1331.36 2130.12 1334.45 Q2130.12 1335.2 2130.24 1335.83 Q2130.38 1336.44 2130.69 1337.05 Q2130.99 1337.63 2131.6 1337.99 Q2132.23 1338.31 2133.1 1338.31 Q2134.2 1338.31 2135.23 1337.8 Q2136.28 1337.26 2136.94 1336.53 Q2137.62 1335.81 2138.02 1335.2 Q2138.44 1334.57 2138.53 1334.24 L2140.69 1325.62 L2141.65 1321.78 Q2142.09 1319.69 2142.3 1319.18 Q2142.58 1318.69 2143.08 1318.43 Q2143.57 1318.17 2143.99 1318.17 Q2144.57 1318.17 2144.97 1318.52 Q2145.39 1318.87 2145.39 1319.48 Z\" fill=\"#000000\" fill-rule=\"nonzero\" fill-opacity=\"1\" /><path clip-path=\"url(#clip630)\" d=\"M2159.83 1331.57 Q2159.87 1330.98 2160.79 1330.98 L2190.18 1330.98 Q2191.57 1330.98 2191.59 1331.52 Q2191.59 1332.11 2190.28 1332.08 L2161.12 1332.08 Q2159.83 1332.11 2159.83 1331.57 M2159.83 1322.2 Q2159.83 1321.61 2160.84 1321.64 L2190.14 1321.64 Q2191.57 1321.64 2191.59 1322.2 Q2191.59 1322.74 2190.37 1322.74 L2160.79 1322.74 Q2159.83 1322.74 2159.83 1322.2 Z\" fill=\"#000000\" fill-rule=\"nonzero\" fill-opacity=\"1\" /><path clip-path=\"url(#clip630)\" d=\"M2233.97 1320.82 Q2233.97 1322.13 2233.15 1322.88 Q2232.33 1323.6 2231.39 1323.6 Q2230.5 1323.6 2230.04 1323.09 Q2229.57 1322.57 2229.57 1321.92 Q2229.57 1321.03 2230.22 1320.25 Q2230.88 1319.48 2231.86 1319.32 Q2230.9 1318.71 2229.47 1318.71 Q2228.54 1318.71 2227.72 1319.2 Q2226.92 1319.69 2226.43 1320.33 Q2225.96 1320.96 2225.54 1321.87 Q2225.14 1322.76 2224.98 1323.3 Q2224.84 1323.82 2224.72 1324.38 L2223.08 1330.94 Q2222.28 1334.05 2222.28 1335.15 Q2222.28 1336.51 2222.94 1337.42 Q2223.59 1338.31 2224.91 1338.31 Q2225.42 1338.31 2226.01 1338.17 Q2226.59 1338.01 2227.34 1337.59 Q2228.11 1337.14 2228.79 1336.49 Q2229.5 1335.81 2230.18 1334.66 Q2230.86 1333.51 2231.3 1332.04 Q2231.44 1331.52 2231.91 1331.52 Q2232.49 1331.52 2232.49 1331.99 Q2232.49 1332.39 2232.17 1333.23 Q2231.86 1334.05 2231.18 1335.13 Q2230.53 1336.18 2229.66 1337.14 Q2228.79 1338.08 2227.51 1338.74 Q2226.22 1339.39 2224.81 1339.39 Q2222.8 1339.39 2221.46 1338.31 Q2220.13 1337.24 2219.64 1335.74 Q2219.52 1335.95 2219.35 1336.23 Q2219.19 1336.51 2218.7 1337.14 Q2218.23 1337.75 2217.69 1338.22 Q2217.15 1338.66 2216.31 1339.02 Q2215.49 1339.39 2214.6 1339.39 Q2213.48 1339.39 2212.47 1339.06 Q2211.48 1338.74 2210.78 1337.99 Q2210.08 1337.24 2210.08 1336.21 Q2210.08 1335.06 2210.85 1334.26 Q2211.65 1333.44 2212.73 1333.44 Q2213.41 1333.44 2213.94 1333.84 Q2214.51 1334.24 2214.51 1335.1 Q2214.51 1336.06 2213.85 1336.79 Q2213.19 1337.52 2212.26 1337.7 Q2213.22 1338.31 2214.65 1338.31 Q2216.19 1338.31 2217.41 1336.96 Q2218.63 1335.6 2219.21 1333.32 Q2220.67 1327.87 2221.23 1325.43 Q2221.79 1322.97 2221.79 1321.92 Q2221.79 1320.93 2221.53 1320.25 Q2221.28 1319.58 2220.83 1319.27 Q2220.41 1318.94 2220.01 1318.83 Q2219.64 1318.71 2219.21 1318.71 Q2218.51 1318.71 2217.72 1318.99 Q2216.94 1319.27 2216.01 1319.93 Q2215.09 1320.56 2214.23 1321.87 Q2213.36 1323.18 2212.77 1324.99 Q2212.66 1325.52 2212.14 1325.52 Q2211.58 1325.5 2211.58 1325.03 Q2211.58 1324.63 2211.88 1323.82 Q2212.21 1322.97 2212.87 1321.92 Q2213.55 1320.86 2214.41 1319.93 Q2215.3 1318.97 2216.59 1318.31 Q2217.9 1317.65 2219.31 1317.65 Q2219.94 1317.65 2220.55 1317.8 Q2221.18 1317.91 2221.93 1318.26 Q2222.7 1318.62 2223.38 1319.39 Q2224.06 1320.16 2224.48 1321.29 Q2224.77 1320.75 2225.14 1320.23 Q2225.54 1319.72 2226.15 1319.08 Q2226.78 1318.43 2227.65 1318.05 Q2228.54 1317.65 2229.52 1317.65 Q2230.48 1317.65 2231.42 1317.91 Q2232.35 1318.15 2233.15 1318.92 Q2233.97 1319.67 2233.97 1320.82 Z\" fill=\"#000000\" fill-rule=\"nonzero\" fill-opacity=\"1\" /><path clip-path=\"url(#clip630)\" d=\"M2238.86 1324.51 Q2238.86 1323.91 2238.91 1323.73 Q2238.97 1323.55 2239.23 1323.27 L2245.68 1316.09 Q2249.2 1312.12 2249.2 1308.66 Q2249.2 1306.41 2248.02 1304.8 Q2246.86 1303.2 2244.71 1303.2 Q2243.23 1303.2 2241.99 1304.1 Q2240.74 1305 2240.17 1306.61 Q2240.27 1306.58 2240.61 1306.58 Q2241.45 1306.58 2241.91 1307.1 Q2242.38 1307.62 2242.38 1308.33 Q2242.38 1309.23 2241.79 1309.67 Q2241.22 1310.1 2240.64 1310.1 Q2240.41 1310.1 2240.1 1310.05 Q2239.81 1310 2239.33 1309.54 Q2238.86 1309.07 2238.86 1308.23 Q2238.86 1305.89 2240.63 1304.02 Q2242.41 1302.15 2245.14 1302.15 Q2248.22 1302.15 2250.23 1303.98 Q2252.27 1305.8 2252.27 1308.66 Q2252.27 1309.66 2251.96 1310.58 Q2251.66 1311.48 2251.25 1312.18 Q2250.86 1312.89 2249.78 1314.02 Q2248.69 1315.15 2247.82 1315.95 Q2246.96 1316.76 2245 1318.46 L2241.45 1321.92 L2247.5 1321.92 Q2250.45 1321.92 2250.68 1321.66 Q2251.01 1321.18 2251.42 1318.68 L2252.27 1318.68 L2251.32 1324.51 L2238.86 1324.51 Z\" fill=\"#000000\" fill-rule=\"nonzero\" fill-opacity=\"1\" /></svg>\n"
            ],
            "text/html": [
              "<?xml version=\"1.0\" encoding=\"utf-8\"?>\n",
              "<svg xmlns=\"http://www.w3.org/2000/svg\" xmlns:xlink=\"http://www.w3.org/1999/xlink\" width=\"600\" height=\"400\" viewBox=\"0 0 2400 1600\">\n",
              "<defs>\n",
              "  <clipPath id=\"clip680\">\n",
              "    <rect x=\"0\" y=\"0\" width=\"2400\" height=\"1600\"/>\n",
              "  </clipPath>\n",
              "</defs>\n",
              "<path clip-path=\"url(#clip680)\" d=\"M0 1600 L2400 1600 L2400 8.88178e-14 L0 8.88178e-14  Z\" fill=\"#ffffff\" fill-rule=\"evenodd\" fill-opacity=\"1\"/>\n",
              "<defs>\n",
              "  <clipPath id=\"clip681\">\n",
              "    <rect x=\"480\" y=\"0\" width=\"1681\" height=\"1600\"/>\n",
              "  </clipPath>\n",
              "</defs>\n",
              "<path clip-path=\"url(#clip680)\" d=\"M203.964 1423.18 L2352.76 1423.18 L2352.76 47.2441 L203.964 47.2441  Z\" fill=\"#ffffff\" fill-rule=\"evenodd\" fill-opacity=\"1\"/>\n",
              "<defs>\n",
              "  <clipPath id=\"clip682\">\n",
              "    <rect x=\"203\" y=\"47\" width=\"2150\" height=\"1377\"/>\n",
              "  </clipPath>\n",
              "</defs>\n",
              "<polyline clip-path=\"url(#clip682)\" style=\"stroke:#000000; stroke-linecap:round; stroke-linejoin:round; stroke-width:2; stroke-opacity:0.1; fill:none\" points=\"467.495,1423.18 467.495,47.2441 \"/>\n",
              "<polyline clip-path=\"url(#clip682)\" style=\"stroke:#000000; stroke-linecap:round; stroke-linejoin:round; stroke-width:2; stroke-opacity:0.1; fill:none\" points=\"872.927,1423.18 872.927,47.2441 \"/>\n",
              "<polyline clip-path=\"url(#clip682)\" style=\"stroke:#000000; stroke-linecap:round; stroke-linejoin:round; stroke-width:2; stroke-opacity:0.1; fill:none\" points=\"1278.36,1423.18 1278.36,47.2441 \"/>\n",
              "<polyline clip-path=\"url(#clip682)\" style=\"stroke:#000000; stroke-linecap:round; stroke-linejoin:round; stroke-width:2; stroke-opacity:0.1; fill:none\" points=\"1683.79,1423.18 1683.79,47.2441 \"/>\n",
              "<polyline clip-path=\"url(#clip682)\" style=\"stroke:#000000; stroke-linecap:round; stroke-linejoin:round; stroke-width:2; stroke-opacity:0.1; fill:none\" points=\"2089.22,1423.18 2089.22,47.2441 \"/>\n",
              "<polyline clip-path=\"url(#clip680)\" style=\"stroke:#000000; stroke-linecap:round; stroke-linejoin:round; stroke-width:4; stroke-opacity:1; fill:none\" points=\"203.964,1423.18 2352.76,1423.18 \"/>\n",
              "<polyline clip-path=\"url(#clip680)\" style=\"stroke:#000000; stroke-linecap:round; stroke-linejoin:round; stroke-width:4; stroke-opacity:1; fill:none\" points=\"467.495,1423.18 467.495,1404.28 \"/>\n",
              "<polyline clip-path=\"url(#clip680)\" style=\"stroke:#000000; stroke-linecap:round; stroke-linejoin:round; stroke-width:4; stroke-opacity:1; fill:none\" points=\"872.927,1423.18 872.927,1404.28 \"/>\n",
              "<polyline clip-path=\"url(#clip680)\" style=\"stroke:#000000; stroke-linecap:round; stroke-linejoin:round; stroke-width:4; stroke-opacity:1; fill:none\" points=\"1278.36,1423.18 1278.36,1404.28 \"/>\n",
              "<polyline clip-path=\"url(#clip680)\" style=\"stroke:#000000; stroke-linecap:round; stroke-linejoin:round; stroke-width:4; stroke-opacity:1; fill:none\" points=\"1683.79,1423.18 1683.79,1404.28 \"/>\n",
              "<polyline clip-path=\"url(#clip680)\" style=\"stroke:#000000; stroke-linecap:round; stroke-linejoin:round; stroke-width:4; stroke-opacity:1; fill:none\" points=\"2089.22,1423.18 2089.22,1404.28 \"/>\n",
              "<path clip-path=\"url(#clip680)\" d=\"M436.395 1468.75 L466.071 1468.75 L466.071 1472.69 L436.395 1472.69 L436.395 1468.75 Z\" fill=\"#000000\" fill-rule=\"nonzero\" fill-opacity=\"1\" /><path clip-path=\"url(#clip680)\" d=\"M489.011 1455.09 L477.205 1473.54 L489.011 1473.54 L489.011 1455.09 M487.784 1451.02 L493.664 1451.02 L493.664 1473.54 L498.594 1473.54 L498.594 1477.43 L493.664 1477.43 L493.664 1485.58 L489.011 1485.58 L489.011 1477.43 L473.409 1477.43 L473.409 1472.92 L487.784 1451.02 Z\" fill=\"#000000\" fill-rule=\"nonzero\" fill-opacity=\"1\" /><path clip-path=\"url(#clip680)\" d=\"M842.87 1468.75 L872.545 1468.75 L872.545 1472.69 L842.87 1472.69 L842.87 1468.75 Z\" fill=\"#000000\" fill-rule=\"nonzero\" fill-opacity=\"1\" /><path clip-path=\"url(#clip680)\" d=\"M886.666 1481.64 L902.985 1481.64 L902.985 1485.58 L881.041 1485.58 L881.041 1481.64 Q883.703 1478.89 888.286 1474.26 Q892.892 1469.61 894.073 1468.27 Q896.318 1465.74 897.198 1464.01 Q898.101 1462.25 898.101 1460.56 Q898.101 1457.8 896.156 1456.07 Q894.235 1454.33 891.133 1454.33 Q888.934 1454.33 886.48 1455.09 Q884.05 1455.86 881.272 1457.41 L881.272 1452.69 Q884.096 1451.55 886.55 1450.97 Q889.004 1450.39 891.041 1450.39 Q896.411 1450.39 899.605 1453.08 Q902.8 1455.77 902.8 1460.26 Q902.8 1462.39 901.99 1464.31 Q901.203 1466.2 899.096 1468.8 Q898.517 1469.47 895.416 1472.69 Q892.314 1475.88 886.666 1481.64 Z\" fill=\"#000000\" fill-rule=\"nonzero\" fill-opacity=\"1\" /><path clip-path=\"url(#clip680)\" d=\"M1278.36 1454.1 Q1274.75 1454.1 1272.92 1457.66 Q1271.11 1461.2 1271.11 1468.33 Q1271.11 1475.44 1272.92 1479.01 Q1274.75 1482.55 1278.36 1482.55 Q1281.99 1482.55 1283.8 1479.01 Q1285.63 1475.44 1285.63 1468.33 Q1285.63 1461.2 1283.8 1457.66 Q1281.99 1454.1 1278.36 1454.1 M1278.36 1450.39 Q1284.17 1450.39 1287.23 1455 Q1290.3 1459.58 1290.3 1468.33 Q1290.3 1477.06 1287.23 1481.67 Q1284.17 1486.25 1278.36 1486.25 Q1272.55 1486.25 1269.47 1481.67 Q1266.42 1477.06 1266.42 1468.33 Q1266.42 1459.58 1269.47 1455 Q1272.55 1450.39 1278.36 1450.39 Z\" fill=\"#000000\" fill-rule=\"nonzero\" fill-opacity=\"1\" /><path clip-path=\"url(#clip680)\" d=\"M1678.45 1481.64 L1694.76 1481.64 L1694.76 1485.58 L1672.82 1485.58 L1672.82 1481.64 Q1675.48 1478.89 1680.07 1474.26 Q1684.67 1469.61 1685.85 1468.27 Q1688.1 1465.74 1688.98 1464.01 Q1689.88 1462.25 1689.88 1460.56 Q1689.88 1457.8 1687.94 1456.07 Q1686.01 1454.33 1682.91 1454.33 Q1680.71 1454.33 1678.26 1455.09 Q1675.83 1455.86 1673.05 1457.41 L1673.05 1452.69 Q1675.88 1451.55 1678.33 1450.97 Q1680.78 1450.39 1682.82 1450.39 Q1688.19 1450.39 1691.38 1453.08 Q1694.58 1455.77 1694.58 1460.26 Q1694.58 1462.39 1693.77 1464.31 Q1692.98 1466.2 1690.88 1468.8 Q1690.3 1469.47 1687.2 1472.69 Q1684.09 1475.88 1678.45 1481.64 Z\" fill=\"#000000\" fill-rule=\"nonzero\" fill-opacity=\"1\" /><path clip-path=\"url(#clip680)\" d=\"M2092.23 1455.09 L2080.43 1473.54 L2092.23 1473.54 L2092.23 1455.09 M2091.01 1451.02 L2096.89 1451.02 L2096.89 1473.54 L2101.82 1473.54 L2101.82 1477.43 L2096.89 1477.43 L2096.89 1485.58 L2092.23 1485.58 L2092.23 1477.43 L2076.63 1477.43 L2076.63 1472.92 L2091.01 1451.02 Z\" fill=\"#000000\" fill-rule=\"nonzero\" fill-opacity=\"1\" /><path clip-path=\"url(#clip680)\" d=\"M1292.53 1528.8 Q1292.53 1530.61 1291.41 1531.64 Q1290.28 1532.64 1288.99 1532.64 Q1287.77 1532.64 1287.12 1531.93 Q1286.48 1531.22 1286.48 1530.32 Q1286.48 1529.09 1287.38 1528.03 Q1288.28 1526.97 1289.63 1526.74 Q1288.31 1525.91 1286.35 1525.91 Q1285.06 1525.91 1283.93 1526.58 Q1282.84 1527.26 1282.16 1528.13 Q1281.52 1529 1280.94 1530.25 Q1280.39 1531.48 1280.17 1532.22 Q1279.97 1532.93 1279.81 1533.7 L1277.56 1542.72 Q1276.46 1547 1276.46 1548.51 Q1276.46 1550.38 1277.36 1551.64 Q1278.27 1552.86 1280.07 1552.86 Q1280.78 1552.86 1281.58 1552.67 Q1282.39 1552.44 1283.42 1551.86 Q1284.48 1551.25 1285.42 1550.35 Q1286.38 1549.42 1287.32 1547.84 Q1288.25 1546.26 1288.86 1544.23 Q1289.05 1543.52 1289.7 1543.52 Q1290.5 1543.52 1290.5 1544.17 Q1290.5 1544.71 1290.05 1545.87 Q1289.63 1547 1288.7 1548.48 Q1287.8 1549.93 1286.61 1551.25 Q1285.42 1552.54 1283.64 1553.44 Q1281.87 1554.34 1279.94 1554.34 Q1277.17 1554.34 1275.34 1552.86 Q1273.5 1551.38 1272.82 1549.32 Q1272.66 1549.61 1272.44 1550 Q1272.21 1550.38 1271.53 1551.25 Q1270.89 1552.09 1270.15 1552.73 Q1269.41 1553.34 1268.25 1553.83 Q1267.12 1554.34 1265.9 1554.34 Q1264.35 1554.34 1262.97 1553.89 Q1261.62 1553.44 1260.65 1552.41 Q1259.68 1551.38 1259.68 1549.96 Q1259.68 1548.38 1260.75 1547.29 Q1261.84 1546.16 1263.32 1546.16 Q1264.26 1546.16 1265 1546.71 Q1265.77 1547.26 1265.77 1548.45 Q1265.77 1549.77 1264.87 1550.77 Q1263.97 1551.77 1262.68 1552.02 Q1264 1552.86 1265.96 1552.86 Q1268.09 1552.86 1269.76 1550.99 Q1271.44 1549.13 1272.24 1546 Q1274.24 1538.5 1275.01 1535.15 Q1275.79 1531.77 1275.79 1530.32 Q1275.79 1528.96 1275.43 1528.03 Q1275.08 1527.1 1274.47 1526.68 Q1273.89 1526.23 1273.34 1526.07 Q1272.82 1525.91 1272.24 1525.91 Q1271.28 1525.91 1270.18 1526.29 Q1269.12 1526.68 1267.83 1527.58 Q1266.58 1528.45 1265.38 1530.25 Q1264.19 1532.06 1263.39 1534.54 Q1263.23 1535.28 1262.52 1535.28 Q1261.74 1535.24 1261.74 1534.6 Q1261.74 1534.05 1262.16 1532.93 Q1262.61 1531.77 1263.52 1530.32 Q1264.45 1528.87 1265.64 1527.58 Q1266.87 1526.26 1268.64 1525.36 Q1270.44 1524.46 1272.37 1524.46 Q1273.24 1524.46 1274.08 1524.65 Q1274.95 1524.81 1275.98 1525.29 Q1277.04 1525.78 1277.98 1526.84 Q1278.91 1527.9 1279.49 1529.45 Q1279.88 1528.71 1280.39 1528 Q1280.94 1527.29 1281.78 1526.42 Q1282.65 1525.52 1283.84 1525 Q1285.06 1524.46 1286.41 1524.46 Q1287.73 1524.46 1289.02 1524.81 Q1290.31 1525.13 1291.41 1526.19 Q1292.53 1527.23 1292.53 1528.8 Z\" fill=\"#000000\" fill-rule=\"nonzero\" fill-opacity=\"1\" /><polyline clip-path=\"url(#clip682)\" style=\"stroke:#000000; stroke-linecap:round; stroke-linejoin:round; stroke-width:2; stroke-opacity:0.1; fill:none\" points=\"203.964,1384.24 2352.76,1384.24 \"/>\n",
              "<polyline clip-path=\"url(#clip682)\" style=\"stroke:#000000; stroke-linecap:round; stroke-linejoin:round; stroke-width:2; stroke-opacity:0.1; fill:none\" points=\"203.964,1124.63 2352.76,1124.63 \"/>\n",
              "<polyline clip-path=\"url(#clip682)\" style=\"stroke:#000000; stroke-linecap:round; stroke-linejoin:round; stroke-width:2; stroke-opacity:0.1; fill:none\" points=\"203.964,865.017 2352.76,865.017 \"/>\n",
              "<polyline clip-path=\"url(#clip682)\" style=\"stroke:#000000; stroke-linecap:round; stroke-linejoin:round; stroke-width:2; stroke-opacity:0.1; fill:none\" points=\"203.964,605.407 2352.76,605.407 \"/>\n",
              "<polyline clip-path=\"url(#clip682)\" style=\"stroke:#000000; stroke-linecap:round; stroke-linejoin:round; stroke-width:2; stroke-opacity:0.1; fill:none\" points=\"203.964,345.796 2352.76,345.796 \"/>\n",
              "<polyline clip-path=\"url(#clip682)\" style=\"stroke:#000000; stroke-linecap:round; stroke-linejoin:round; stroke-width:2; stroke-opacity:0.1; fill:none\" points=\"203.964,86.1857 2352.76,86.1857 \"/>\n",
              "<polyline clip-path=\"url(#clip680)\" style=\"stroke:#000000; stroke-linecap:round; stroke-linejoin:round; stroke-width:4; stroke-opacity:1; fill:none\" points=\"203.964,1423.18 203.964,47.2441 \"/>\n",
              "<polyline clip-path=\"url(#clip680)\" style=\"stroke:#000000; stroke-linecap:round; stroke-linejoin:round; stroke-width:4; stroke-opacity:1; fill:none\" points=\"203.964,1384.24 222.861,1384.24 \"/>\n",
              "<polyline clip-path=\"url(#clip680)\" style=\"stroke:#000000; stroke-linecap:round; stroke-linejoin:round; stroke-width:4; stroke-opacity:1; fill:none\" points=\"203.964,1124.63 222.861,1124.63 \"/>\n",
              "<polyline clip-path=\"url(#clip680)\" style=\"stroke:#000000; stroke-linecap:round; stroke-linejoin:round; stroke-width:4; stroke-opacity:1; fill:none\" points=\"203.964,865.017 222.861,865.017 \"/>\n",
              "<polyline clip-path=\"url(#clip680)\" style=\"stroke:#000000; stroke-linecap:round; stroke-linejoin:round; stroke-width:4; stroke-opacity:1; fill:none\" points=\"203.964,605.407 222.861,605.407 \"/>\n",
              "<polyline clip-path=\"url(#clip680)\" style=\"stroke:#000000; stroke-linecap:round; stroke-linejoin:round; stroke-width:4; stroke-opacity:1; fill:none\" points=\"203.964,345.796 222.861,345.796 \"/>\n",
              "<polyline clip-path=\"url(#clip680)\" style=\"stroke:#000000; stroke-linecap:round; stroke-linejoin:round; stroke-width:4; stroke-opacity:1; fill:none\" points=\"203.964,86.1857 222.861,86.1857 \"/>\n",
              "<path clip-path=\"url(#clip680)\" d=\"M156.019 1370.04 Q152.408 1370.04 150.579 1373.6 Q148.774 1377.14 148.774 1384.27 Q148.774 1391.38 150.579 1394.94 Q152.408 1398.49 156.019 1398.49 Q159.653 1398.49 161.459 1394.94 Q163.288 1391.38 163.288 1384.27 Q163.288 1377.14 161.459 1373.6 Q159.653 1370.04 156.019 1370.04 M156.019 1366.33 Q161.829 1366.33 164.885 1370.94 Q167.964 1375.52 167.964 1384.27 Q167.964 1393 164.885 1397.61 Q161.829 1402.19 156.019 1402.19 Q150.209 1402.19 147.13 1397.61 Q144.075 1393 144.075 1384.27 Q144.075 1375.52 147.13 1370.94 Q150.209 1366.33 156.019 1366.33 Z\" fill=\"#000000\" fill-rule=\"nonzero\" fill-opacity=\"1\" /><path clip-path=\"url(#clip680)\" d=\"M147.061 1107.35 L165.417 1107.35 L165.417 1111.28 L151.343 1111.28 L151.343 1119.76 Q152.362 1119.41 153.38 1119.25 Q154.399 1119.06 155.417 1119.06 Q161.204 1119.06 164.584 1122.23 Q167.964 1125.4 167.964 1130.82 Q167.964 1136.4 164.491 1139.5 Q161.019 1142.58 154.7 1142.58 Q152.524 1142.58 150.255 1142.21 Q148.01 1141.84 145.603 1141.1 L145.603 1136.4 Q147.686 1137.53 149.908 1138.09 Q152.13 1138.64 154.607 1138.64 Q158.612 1138.64 160.95 1136.54 Q163.288 1134.43 163.288 1130.82 Q163.288 1127.21 160.95 1125.1 Q158.612 1123 154.607 1123 Q152.732 1123 150.857 1123.41 Q149.005 1123.83 147.061 1124.71 L147.061 1107.35 Z\" fill=\"#000000\" fill-rule=\"nonzero\" fill-opacity=\"1\" /><path clip-path=\"url(#clip680)\" d=\"M116.668 878.362 L124.306 878.362 L124.306 851.996 L115.996 853.663 L115.996 849.404 L124.26 847.737 L128.936 847.737 L128.936 878.362 L136.575 878.362 L136.575 882.297 L116.668 882.297 L116.668 878.362 Z\" fill=\"#000000\" fill-rule=\"nonzero\" fill-opacity=\"1\" /><path clip-path=\"url(#clip680)\" d=\"M156.019 850.816 Q152.408 850.816 150.579 854.381 Q148.774 857.922 148.774 865.052 Q148.774 872.158 150.579 875.723 Q152.408 879.265 156.019 879.265 Q159.653 879.265 161.459 875.723 Q163.288 872.158 163.288 865.052 Q163.288 857.922 161.459 854.381 Q159.653 850.816 156.019 850.816 M156.019 847.112 Q161.829 847.112 164.885 851.719 Q167.964 856.302 167.964 865.052 Q167.964 873.779 164.885 878.385 Q161.829 882.969 156.019 882.969 Q150.209 882.969 147.13 878.385 Q144.075 873.779 144.075 865.052 Q144.075 856.302 147.13 851.719 Q150.209 847.112 156.019 847.112 Z\" fill=\"#000000\" fill-rule=\"nonzero\" fill-opacity=\"1\" /><path clip-path=\"url(#clip680)\" d=\"M117.663 618.752 L125.302 618.752 L125.302 592.386 L116.992 594.053 L116.992 589.793 L125.255 588.127 L129.931 588.127 L129.931 618.752 L137.57 618.752 L137.57 622.687 L117.663 622.687 L117.663 618.752 Z\" fill=\"#000000\" fill-rule=\"nonzero\" fill-opacity=\"1\" /><path clip-path=\"url(#clip680)\" d=\"M147.061 588.127 L165.417 588.127 L165.417 592.062 L151.343 592.062 L151.343 600.534 Q152.362 600.187 153.38 600.025 Q154.399 599.84 155.417 599.84 Q161.204 599.84 164.584 603.011 Q167.964 606.182 167.964 611.599 Q167.964 617.177 164.491 620.279 Q161.019 623.358 154.7 623.358 Q152.524 623.358 150.255 622.988 Q148.01 622.617 145.603 621.877 L145.603 617.177 Q147.686 618.312 149.908 618.867 Q152.13 619.423 154.607 619.423 Q158.612 619.423 160.95 617.316 Q163.288 615.21 163.288 611.599 Q163.288 607.988 160.95 605.881 Q158.612 603.775 154.607 603.775 Q152.732 603.775 150.857 604.191 Q149.005 604.608 147.061 605.488 L147.061 588.127 Z\" fill=\"#000000\" fill-rule=\"nonzero\" fill-opacity=\"1\" /><path clip-path=\"url(#clip680)\" d=\"M119.885 359.141 L136.204 359.141 L136.204 363.076 L114.26 363.076 L114.26 359.141 Q116.922 356.386 121.505 351.757 Q126.112 347.104 127.292 345.761 Q129.538 343.238 130.417 341.502 Q131.32 339.743 131.32 338.053 Q131.32 335.299 129.376 333.562 Q127.455 331.826 124.353 331.826 Q122.154 331.826 119.7 332.59 Q117.269 333.354 114.492 334.905 L114.492 330.183 Q117.316 329.049 119.769 328.47 Q122.223 327.891 124.26 327.891 Q129.63 327.891 132.825 330.576 Q136.019 333.262 136.019 337.752 Q136.019 339.882 135.209 341.803 Q134.422 343.701 132.316 346.294 Q131.737 346.965 128.635 350.183 Q125.533 353.377 119.885 359.141 Z\" fill=\"#000000\" fill-rule=\"nonzero\" fill-opacity=\"1\" /><path clip-path=\"url(#clip680)\" d=\"M156.019 331.595 Q152.408 331.595 150.579 335.16 Q148.774 338.701 148.774 345.831 Q148.774 352.937 150.579 356.502 Q152.408 360.044 156.019 360.044 Q159.653 360.044 161.459 356.502 Q163.288 352.937 163.288 345.831 Q163.288 338.701 161.459 335.16 Q159.653 331.595 156.019 331.595 M156.019 327.891 Q161.829 327.891 164.885 332.498 Q167.964 337.081 167.964 345.831 Q167.964 354.558 164.885 359.164 Q161.829 363.747 156.019 363.747 Q150.209 363.747 147.13 359.164 Q144.075 354.558 144.075 345.831 Q144.075 337.081 147.13 332.498 Q150.209 327.891 156.019 327.891 Z\" fill=\"#000000\" fill-rule=\"nonzero\" fill-opacity=\"1\" /><path clip-path=\"url(#clip680)\" d=\"M120.88 99.5305 L137.2 99.5305 L137.2 103.466 L115.256 103.466 L115.256 99.5305 Q117.918 96.7759 122.501 92.1463 Q127.107 87.4935 128.288 86.151 Q130.533 83.6278 131.413 81.8917 Q132.316 80.1325 132.316 78.4427 Q132.316 75.688 130.371 73.9519 Q128.45 72.2158 125.348 72.2158 Q123.149 72.2158 120.695 72.9797 Q118.265 73.7436 115.487 75.2945 L115.487 70.5723 Q118.311 69.4381 120.765 68.8594 Q123.218 68.2807 125.255 68.2807 Q130.626 68.2807 133.82 70.9658 Q137.015 73.651 137.015 78.1417 Q137.015 80.2714 136.204 82.1926 Q135.417 84.0908 133.311 86.6834 Q132.732 87.3546 129.63 90.5722 Q126.529 93.7667 120.88 99.5305 Z\" fill=\"#000000\" fill-rule=\"nonzero\" fill-opacity=\"1\" /><path clip-path=\"url(#clip680)\" d=\"M147.061 68.9057 L165.417 68.9057 L165.417 72.8408 L151.343 72.8408 L151.343 81.313 Q152.362 80.9658 153.38 80.8038 Q154.399 80.6186 155.417 80.6186 Q161.204 80.6186 164.584 83.7899 Q167.964 86.9611 167.964 92.3778 Q167.964 97.9564 164.491 101.058 Q161.019 104.137 154.7 104.137 Q152.524 104.137 150.255 103.767 Q148.01 103.396 145.603 102.655 L145.603 97.9564 Q147.686 99.0907 149.908 99.6462 Q152.13 100.202 154.607 100.202 Q158.612 100.202 160.95 98.0953 Q163.288 95.9889 163.288 92.3778 Q163.288 88.7667 160.95 86.6602 Q158.612 84.5537 154.607 84.5537 Q152.732 84.5537 150.857 84.9704 Q149.005 85.3871 147.061 86.2667 L147.061 68.9057 Z\" fill=\"#000000\" fill-rule=\"nonzero\" fill-opacity=\"1\" /><path clip-path=\"url(#clip680)\" d=\"M49.6813 734.795 Q51.4848 734.795 52.5154 735.922 Q53.5138 737.049 53.5138 738.338 Q53.5138 739.561 52.8053 740.206 Q52.0967 740.85 51.195 740.85 Q49.9711 740.85 48.9083 739.948 Q47.8456 739.046 47.6201 737.693 Q46.7828 739.014 46.7828 740.978 Q46.7828 742.267 47.4591 743.394 Q48.1354 744.489 49.005 745.165 Q49.8745 745.809 51.1305 746.389 Q52.3544 746.937 53.0951 747.162 Q53.8036 747.355 54.5766 747.516 L63.5942 749.771 Q67.8776 750.866 69.3913 750.866 Q71.2592 750.866 72.5152 749.964 Q73.7391 749.062 73.7391 747.259 Q73.7391 746.55 73.5458 745.745 Q73.3204 744.94 72.7407 743.909 Q72.1288 742.846 71.227 741.912 Q70.293 740.946 68.7149 740.012 Q67.1369 739.078 65.1079 738.466 Q64.3994 738.273 64.3994 737.629 Q64.3994 736.824 65.0435 736.824 Q65.591 736.824 66.7504 737.275 Q67.8776 737.693 69.3591 738.627 Q70.8083 739.529 72.1288 740.721 Q73.417 741.912 74.3188 743.684 Q75.2205 745.455 75.2205 747.387 Q75.2205 750.157 73.7391 751.993 Q72.2576 753.829 70.1964 754.505 Q70.4863 754.666 70.8727 754.891 Q71.2592 755.117 72.1288 755.793 Q72.9661 756.437 73.6102 757.178 Q74.2222 757.919 74.7052 759.078 Q75.2205 760.205 75.2205 761.429 Q75.2205 762.975 74.7697 764.36 Q74.3188 765.713 73.2882 766.679 Q72.2576 767.645 70.8405 767.645 Q69.2624 767.645 68.1674 766.582 Q67.0402 765.487 67.0402 764.006 Q67.0402 763.072 67.5877 762.331 Q68.1352 761.558 69.3269 761.558 Q70.6473 761.558 71.6457 762.46 Q72.6441 763.362 72.9017 764.65 Q73.7391 763.329 73.7391 761.365 Q73.7391 759.239 71.8711 757.565 Q70.0032 755.89 66.8792 755.085 Q59.3752 753.088 56.0258 752.315 Q52.6442 751.542 51.195 751.542 Q49.8423 751.542 48.9083 751.896 Q47.9744 752.251 47.5557 752.862 Q47.1048 753.442 46.9438 753.99 Q46.7828 754.505 46.7828 755.085 Q46.7828 756.051 47.1692 757.146 Q47.5557 758.209 48.4575 759.497 Q49.327 760.753 51.1305 761.944 Q52.9341 763.136 55.4139 763.941 Q56.1547 764.102 56.1547 764.811 Q56.1225 765.584 55.4783 765.584 Q54.9308 765.584 53.8036 765.165 Q52.6442 764.714 51.195 763.812 Q49.7457 762.878 48.4575 761.687 Q47.137 760.463 46.2353 758.692 Q45.3335 756.888 45.3335 754.956 Q45.3335 754.086 45.5267 753.249 Q45.6878 752.379 46.1708 751.349 Q46.6539 750.286 47.7167 749.352 Q48.7795 748.418 50.3254 747.838 Q49.5847 747.452 48.8761 746.937 Q48.1676 746.389 47.2981 745.552 Q46.3963 744.682 45.881 743.491 Q45.3335 742.267 45.3335 740.914 Q45.3335 739.594 45.6878 738.305 Q46.0098 737.017 47.0726 735.922 Q48.1032 734.795 49.6813 734.795 Z\" fill=\"#000000\" fill-rule=\"nonzero\" fill-opacity=\"1\" /><path clip-path=\"url(#clip680)\" d=\"M54.7431 728.074 Q53.9089 728.074 53.661 728.006 Q53.413 727.916 53.0297 727.555 L43.1554 718.695 Q37.6997 713.848 32.9429 713.848 Q29.8544 713.848 27.6451 715.472 Q25.4357 717.072 25.4357 720.025 Q25.4357 722.054 26.6757 723.768 Q27.9156 725.481 30.1249 726.27 Q30.0798 726.135 30.0798 725.661 Q30.0798 724.512 30.8012 723.88 Q31.5227 723.227 32.492 723.227 Q33.732 723.227 34.3407 724.038 Q34.9268 724.827 34.9268 725.616 Q34.9268 725.932 34.8592 726.36 Q34.7915 726.766 34.1603 727.42 Q33.5065 728.074 32.3568 728.074 Q29.133 728.074 26.563 725.639 Q23.9929 723.182 23.9929 719.439 Q23.9929 715.201 26.5179 712.428 Q29.0203 709.633 32.9429 709.633 Q34.3181 709.633 35.5806 710.061 Q36.8205 710.467 37.7899 711.03 Q38.7593 711.571 40.3149 713.059 Q41.8704 714.547 42.9751 715.742 Q44.0797 716.937 46.4243 719.62 L51.1811 724.512 L51.1811 716.193 Q51.1811 712.135 50.8204 711.819 Q50.1666 711.369 46.7174 710.805 L46.7174 709.633 L54.7431 710.94 L54.7431 728.074 Z\" fill=\"#000000\" fill-rule=\"nonzero\" fill-opacity=\"1\" /><polyline clip-path=\"url(#clip682)\" style=\"stroke:#009af9; stroke-linecap:round; stroke-linejoin:round; stroke-width:4; stroke-opacity:1; fill:none\" points=\"264.778,86.1857 467.495,553.485 670.211,916.939 872.927,1176.55 1075.64,1332.32 1278.36,1384.24 1481.08,1332.32 1683.79,1176.55 1886.51,916.939 2089.22,553.485 2291.94,86.1857 \"/>\n",
              "<path clip-path=\"url(#clip680)\" d=\"M1932.26 1377.32 L2281.13 1377.32 L2281.13 1273.64 L1932.26 1273.64  Z\" fill=\"#ffffff\" fill-rule=\"evenodd\" fill-opacity=\"1\"/>\n",
              "<polyline clip-path=\"url(#clip680)\" style=\"stroke:#000000; stroke-linecap:round; stroke-linejoin:round; stroke-width:4; stroke-opacity:1; fill:none\" points=\"1932.26,1377.32 2281.13,1377.32 2281.13,1273.64 1932.26,1273.64 1932.26,1377.32 \"/>\n",
              "<polyline clip-path=\"url(#clip680)\" style=\"stroke:#009af9; stroke-linecap:round; stroke-linejoin:round; stroke-width:4; stroke-opacity:1; fill:none\" points=\"1956.13,1325.48 2099.38,1325.48 \"/>\n",
              "<path clip-path=\"url(#clip680)\" d=\"M2145.39 1319.48 Q2145.39 1319.81 2145.18 1320.58 L2140.59 1338.9 Q2139.59 1342.97 2136.31 1345.83 Q2133.05 1348.69 2129.35 1348.69 Q2127.12 1348.69 2125.7 1347.5 Q2124.27 1346.32 2124.27 1344.52 Q2124.27 1342.93 2125.11 1342.15 Q2125.95 1341.41 2126.96 1341.41 Q2127.29 1341.41 2127.64 1341.5 Q2127.99 1341.59 2128.37 1341.99 Q2128.74 1342.39 2128.74 1343.07 Q2128.74 1344.17 2127.78 1345.04 Q2127.31 1345.43 2126.87 1345.53 Q2126.45 1345.62 2125.72 1345.62 Q2126 1346.28 2126.52 1346.72 Q2127.03 1347.17 2127.62 1347.33 Q2128.2 1347.52 2128.58 1347.57 Q2128.98 1347.64 2129.35 1347.64 Q2132.35 1347.64 2134.64 1344.61 Q2135.32 1343.7 2135.81 1342.79 Q2136.33 1341.9 2136.7 1340.8 Q2137.08 1339.72 2137.24 1339.13 Q2137.43 1338.55 2137.76 1337.21 Q2135.58 1339.39 2132.91 1339.39 Q2131.79 1339.39 2130.78 1339.09 Q2129.8 1338.78 2128.93 1338.15 Q2128.06 1337.49 2127.55 1336.35 Q2127.05 1335.2 2127.05 1333.68 Q2127.05 1332.06 2127.69 1329.86 Q2128.32 1327.66 2129.84 1323.6 Q2130.66 1321.33 2130.66 1320.23 Q2130.66 1319.69 2130.54 1319.36 Q2130.43 1319.01 2130.19 1318.9 Q2129.96 1318.76 2129.82 1318.73 Q2129.7 1318.71 2129.47 1318.71 Q2128.09 1318.71 2126.8 1320.11 Q2125.51 1321.52 2124.62 1324.66 Q2124.43 1325.24 2124.31 1325.38 Q2124.2 1325.52 2123.85 1325.52 Q2123.26 1325.5 2123.26 1325.03 Q2123.26 1324.85 2123.47 1324.12 Q2123.68 1323.37 2124.17 1322.27 Q2124.69 1321.14 2125.39 1320.14 Q2126.09 1319.11 2127.2 1318.38 Q2128.32 1317.65 2129.61 1317.65 Q2131.36 1317.65 2132.44 1318.8 Q2133.54 1319.93 2133.54 1321.59 Q2133.54 1322.27 2133.36 1322.88 Q2133.19 1323.46 2132.58 1325.03 Q2130.12 1331.36 2130.12 1334.45 Q2130.12 1335.2 2130.24 1335.83 Q2130.38 1336.44 2130.69 1337.05 Q2130.99 1337.63 2131.6 1337.99 Q2132.23 1338.31 2133.1 1338.31 Q2134.2 1338.31 2135.23 1337.8 Q2136.28 1337.26 2136.94 1336.53 Q2137.62 1335.81 2138.02 1335.2 Q2138.44 1334.57 2138.53 1334.24 L2140.69 1325.62 L2141.65 1321.78 Q2142.09 1319.69 2142.3 1319.18 Q2142.58 1318.69 2143.08 1318.43 Q2143.57 1318.17 2143.99 1318.17 Q2144.57 1318.17 2144.97 1318.52 Q2145.39 1318.87 2145.39 1319.48 Z\" fill=\"#000000\" fill-rule=\"nonzero\" fill-opacity=\"1\" /><path clip-path=\"url(#clip680)\" d=\"M2159.83 1331.57 Q2159.87 1330.98 2160.79 1330.98 L2190.18 1330.98 Q2191.57 1330.98 2191.59 1331.52 Q2191.59 1332.11 2190.28 1332.08 L2161.12 1332.08 Q2159.83 1332.11 2159.83 1331.57 M2159.83 1322.2 Q2159.83 1321.61 2160.84 1321.64 L2190.14 1321.64 Q2191.57 1321.64 2191.59 1322.2 Q2191.59 1322.74 2190.37 1322.74 L2160.79 1322.74 Q2159.83 1322.74 2159.83 1322.2 Z\" fill=\"#000000\" fill-rule=\"nonzero\" fill-opacity=\"1\" /><path clip-path=\"url(#clip680)\" d=\"M2233.97 1320.82 Q2233.97 1322.13 2233.15 1322.88 Q2232.33 1323.6 2231.39 1323.6 Q2230.5 1323.6 2230.04 1323.09 Q2229.57 1322.57 2229.57 1321.92 Q2229.57 1321.03 2230.22 1320.25 Q2230.88 1319.48 2231.86 1319.32 Q2230.9 1318.71 2229.47 1318.71 Q2228.54 1318.71 2227.72 1319.2 Q2226.92 1319.69 2226.43 1320.33 Q2225.96 1320.96 2225.54 1321.87 Q2225.14 1322.76 2224.98 1323.3 Q2224.84 1323.82 2224.72 1324.38 L2223.08 1330.94 Q2222.28 1334.05 2222.28 1335.15 Q2222.28 1336.51 2222.94 1337.42 Q2223.59 1338.31 2224.91 1338.31 Q2225.42 1338.31 2226.01 1338.17 Q2226.59 1338.01 2227.34 1337.59 Q2228.11 1337.14 2228.79 1336.49 Q2229.5 1335.81 2230.18 1334.66 Q2230.86 1333.51 2231.3 1332.04 Q2231.44 1331.52 2231.91 1331.52 Q2232.49 1331.52 2232.49 1331.99 Q2232.49 1332.39 2232.17 1333.23 Q2231.86 1334.05 2231.18 1335.13 Q2230.53 1336.18 2229.66 1337.14 Q2228.79 1338.08 2227.51 1338.74 Q2226.22 1339.39 2224.81 1339.39 Q2222.8 1339.39 2221.46 1338.31 Q2220.13 1337.24 2219.64 1335.74 Q2219.52 1335.95 2219.35 1336.23 Q2219.19 1336.51 2218.7 1337.14 Q2218.23 1337.75 2217.69 1338.22 Q2217.15 1338.66 2216.31 1339.02 Q2215.49 1339.39 2214.6 1339.39 Q2213.48 1339.39 2212.47 1339.06 Q2211.48 1338.74 2210.78 1337.99 Q2210.08 1337.24 2210.08 1336.21 Q2210.08 1335.06 2210.85 1334.26 Q2211.65 1333.44 2212.73 1333.44 Q2213.41 1333.44 2213.94 1333.84 Q2214.51 1334.24 2214.51 1335.1 Q2214.51 1336.06 2213.85 1336.79 Q2213.19 1337.52 2212.26 1337.7 Q2213.22 1338.31 2214.65 1338.31 Q2216.19 1338.31 2217.41 1336.96 Q2218.63 1335.6 2219.21 1333.32 Q2220.67 1327.87 2221.23 1325.43 Q2221.79 1322.97 2221.79 1321.92 Q2221.79 1320.93 2221.53 1320.25 Q2221.28 1319.58 2220.83 1319.27 Q2220.41 1318.94 2220.01 1318.83 Q2219.64 1318.71 2219.21 1318.71 Q2218.51 1318.71 2217.72 1318.99 Q2216.94 1319.27 2216.01 1319.93 Q2215.09 1320.56 2214.23 1321.87 Q2213.36 1323.18 2212.77 1324.99 Q2212.66 1325.52 2212.14 1325.52 Q2211.58 1325.5 2211.58 1325.03 Q2211.58 1324.63 2211.88 1323.82 Q2212.21 1322.97 2212.87 1321.92 Q2213.55 1320.86 2214.41 1319.93 Q2215.3 1318.97 2216.59 1318.31 Q2217.9 1317.65 2219.31 1317.65 Q2219.94 1317.65 2220.55 1317.8 Q2221.18 1317.91 2221.93 1318.26 Q2222.7 1318.62 2223.38 1319.39 Q2224.06 1320.16 2224.48 1321.29 Q2224.77 1320.75 2225.14 1320.23 Q2225.54 1319.72 2226.15 1319.08 Q2226.78 1318.43 2227.65 1318.05 Q2228.54 1317.65 2229.52 1317.65 Q2230.48 1317.65 2231.42 1317.91 Q2232.35 1318.15 2233.15 1318.92 Q2233.97 1319.67 2233.97 1320.82 Z\" fill=\"#000000\" fill-rule=\"nonzero\" fill-opacity=\"1\" /><path clip-path=\"url(#clip680)\" d=\"M2238.86 1324.51 Q2238.86 1323.91 2238.91 1323.73 Q2238.97 1323.55 2239.23 1323.27 L2245.68 1316.09 Q2249.2 1312.12 2249.2 1308.66 Q2249.2 1306.41 2248.02 1304.8 Q2246.86 1303.2 2244.71 1303.2 Q2243.23 1303.2 2241.99 1304.1 Q2240.74 1305 2240.17 1306.61 Q2240.27 1306.58 2240.61 1306.58 Q2241.45 1306.58 2241.91 1307.1 Q2242.38 1307.62 2242.38 1308.33 Q2242.38 1309.23 2241.79 1309.67 Q2241.22 1310.1 2240.64 1310.1 Q2240.41 1310.1 2240.1 1310.05 Q2239.81 1310 2239.33 1309.54 Q2238.86 1309.07 2238.86 1308.23 Q2238.86 1305.89 2240.63 1304.02 Q2242.41 1302.15 2245.14 1302.15 Q2248.22 1302.15 2250.23 1303.98 Q2252.27 1305.8 2252.27 1308.66 Q2252.27 1309.66 2251.96 1310.58 Q2251.66 1311.48 2251.25 1312.18 Q2250.86 1312.89 2249.78 1314.02 Q2248.69 1315.15 2247.82 1315.95 Q2246.96 1316.76 2245 1318.46 L2241.45 1321.92 L2247.5 1321.92 Q2250.45 1321.92 2250.68 1321.66 Q2251.01 1321.18 2251.42 1318.68 L2252.27 1318.68 L2251.32 1324.51 L2238.86 1324.51 Z\" fill=\"#000000\" fill-rule=\"nonzero\" fill-opacity=\"1\" /></svg>\n"
            ]
          },
          "metadata": {},
          "output_type": "display_data"
        }
      ],
      "source": [
        "x = collect(-5:5)\n",
        "squared = []\n",
        "for i in x\n",
        "    squared = append!(squared, square(i))\n",
        "end\n",
        "plot(x, squared, label = \"\\$y = x^2\\$\", xlabel = \"\\$x\\$\", ylabel = \"\\$x^2\\$\")"
      ]
    },
    {
      "cell_type": "markdown",
      "id": "eaca6031-e691-4019-9986-e7127b3df842",
      "metadata": {},
      "source": [
        "## Commit and Push Your Changes to GitHub\n",
        "\n",
        "After completing the previous two exercises, commit your solution file\n",
        "(notebook or otherwise) and push to GitHub. Use an informative commit\n",
        "message which makes it clear what changes you’ve made. The specific\n",
        "workflow for this will vary depending on how you’re writing up your\n",
        "solutions; please search for specifics and ask for help as needed!\n",
        "\n",
        "> **Useful Commit Sizes**\n",
        ">\n",
        "> Ideally, you’d commit whenever you make a “substantial” enough change\n",
        "> that you want to lock in, such as writing the core code for a problem\n",
        "> or completing a problem, if you’re preparing code to be used elsewhere\n",
        "> (by yourself or others), or if you want to ask for help. `git` lets\n",
        "> you revert changes back to a previous commit, so it’s easy to undo\n",
        "> changes or updates which broke something that was previously working,\n",
        "> so changing too many things at once can make it hard to keep track of\n",
        "> what worked when.\n",
        ">\n",
        "> But in this case, go ahead and just commit after finishing the\n",
        "> problems.\n",
        "\n",
        "Push the repository with these commits to GitHub and take a screenshot\n",
        "of the repository page\n",
        "(`https://github.com/BEE4750-FA24/<username>/lab01`) which shows the\n",
        "updated repository. Include that screenshot in your submission as the\n",
        "solution to this problem.\n",
        "\n",
        "## Submitting PDF\n",
        "\n",
        "> **Important**\n",
        ">\n",
        "> These submission instructions will not be repeated on future\n",
        "> assignments!\n",
        "\n",
        "Export your writeup as a PDF and submit it to the “Lab 1” assignment on\n",
        "Gradescope. Make sure that you tag pages corresponding to relevant\n",
        "problems to avoid a 10% penalty.\n",
        "\n",
        "> **Printing Code to PDF**\n",
        ">\n",
        "> You are not required to submit your code when submitting assignments.\n",
        "> However, when printing a notebook to PDF, long lines will run off the\n",
        "> edge of code cells, which may result in comments or code being hidden.\n",
        "> If you see this, go back to the notebook and break up long lines into\n",
        "> shorter onces (for example, see the comment in the above code cell) to\n",
        "> ensure key parts of your results aren’t missing."
      ]
    }
  ],
  "metadata": {
    "kernel_info": {
      "name": "julia"
    },
    "kernelspec": {
      "display_name": "Julia 1.10.4",
      "language": "julia",
      "name": "julia-1.10"
    },
    "language_info": {
      "file_extension": ".jl",
      "mimetype": "application/julia",
      "name": "julia",
      "version": "1.10.4"
    }
  },
  "nbformat": 4,
  "nbformat_minor": 5
}
